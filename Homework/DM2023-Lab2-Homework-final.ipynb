{
 "cells": [
  {
   "cell_type": "markdown",
   "metadata": {},
   "source": [
    "### Student Information\n",
    "Name: 雲聿加\n",
    "\n",
    "Student ID: 112034609\n",
    "\n",
    "GitHub ID:JuliaYunn\n",
    "\n",
    "Kaggle name:JJJJJ\n",
    "\n",
    "Kaggle private scoreboard snapshot:\n",
    "\n",
    "[Snapshot](img/pic0.png)"
   ]
  },
  {
   "cell_type": "markdown",
   "metadata": {},
   "source": [
    "---"
   ]
  },
  {
   "cell_type": "markdown",
   "metadata": {},
   "source": [
    "### Instructions"
   ]
  },
  {
   "cell_type": "markdown",
   "metadata": {},
   "source": [
    "1. First: __This part is worth 30% of your grade.__ Do the **take home** exercises in the DM2023-Lab2-master. You may need to copy some cells from the Lab notebook to this notebook. \n",
    "\n",
    "\n",
    "2. Second: __This part is worth 30% of your grade.__ Participate in the in-class [Kaggle Competition](https://www.kaggle.com/t/09b1d0f3f8584d06848252277cb535f2) regarding Emotion Recognition on Twitter by this link https://www.kaggle.com/t/09b1d0f3f8584d06848252277cb535f2. The scoring will be given according to your place in the Private Leaderboard ranking: \n",
    "    - **Bottom 40%**: Get 20% of the 30% available for this section.\n",
    "\n",
    "    - **Top 41% - 100%**: Get (60-x)/6 + 20 points, where x is your ranking in the leaderboard (ie. If you rank 3rd your score will be (60-3)/6 + 20 = 29.5% out of 30%)   \n",
    "    Submit your last submission __BEFORE the deadline (Dec. 27th 11:59 pm, Wednesday)_. Make sure to take a screenshot of your position at the end of the competition and store it as '''pic0.png''' under the **img** folder of this repository and rerun the cell **Student Information**.\n",
    "    \n",
    "\n",
    "3. Third: __This part is worth 30% of your grade.__ A report of your work developping the model for the competition (You can use code and comment it). This report should include what your preprocessing steps, the feature engineering steps and an explanation of your model. You can also mention different things you tried and insights you gained. \n",
    "\n",
    "\n",
    "4. Fourth: __This part is worth 10% of your grade.__ It's hard for us to follow if your code is messy :'(, so please **tidy up your notebook** and **add minimal comments where needed**.\n",
    "\n",
    "\n",
    "Upload your files to your repository then submit the link to it on the corresponding e-learn assignment.\n",
    "\n",
    "Make sure to commit and save your changes to your repository __BEFORE the deadline (Dec. 31th 11:59 pm, Sunday)__. "
   ]
  },
  {
   "cell_type": "markdown",
   "metadata": {},
   "source": [
    "# Part 1."
   ]
  },
  {
   "cell_type": "code",
   "execution_count": 2,
   "metadata": {},
   "outputs": [],
   "source": [
    "import pandas as pd\n",
    "\n",
    "# Training data\n",
    "anger_train = pd.read_csv(r\"C:\\Users\\Leanlab908-4\\OneDrive - NTHU\\桌面\\DMLab2\\DM2023-Lab2-Master\\data\\semeval\\train\\anger-ratings-0to1.train.txt\", sep=\"\\t\", header=None, names=[\"id\", \"text\", \"emotion\", \"intensity\"])\n",
    "\n",
    "sadness_train = pd.read_csv(r\"C:\\Users\\Leanlab908-4\\OneDrive - NTHU\\桌面\\DMLab2\\DM2023-Lab2-Master\\data\\semeval\\train\\sadness-ratings-0to1.train.txt\", sep=\"\\t\", header=None, names=[\"id\", \"text\", \"emotion\", \"intensity\"])\n",
    "\n",
    "fear_train = pd.read_csv(r\"C:\\Users\\Leanlab908-4\\OneDrive - NTHU\\桌面\\DMLab2\\DM2023-Lab2-Master\\data\\semeval\\train\\fear-ratings-0to1.train.txt\", sep=\"\\t\", header=None, names=[\"id\", \"text\", \"emotion\", \"intensity\"])\n",
    "\n",
    "joy_train = pd.read_csv(r\"C:\\Users\\Leanlab908-4\\OneDrive - NTHU\\桌面\\DMLab2\\DM2023-Lab2-Master\\data\\semeval\\train\\joy-ratings-0to1.train.txt\", sep=\"\\t\", header=None, names=[\"id\", \"text\", \"emotion\", \"intensity\"])"
   ]
  },
  {
   "cell_type": "code",
   "execution_count": 3,
   "metadata": {},
   "outputs": [],
   "source": [
    "# combine 4 sub-dataset\n",
    "train_df = pd.concat([anger_train, fear_train, joy_train, sadness_train], ignore_index=True)"
   ]
  },
  {
   "cell_type": "code",
   "execution_count": 7,
   "metadata": {},
   "outputs": [
    {
     "data": {
      "text/html": [
       "<div>\n",
       "<style scoped>\n",
       "    .dataframe tbody tr th:only-of-type {\n",
       "        vertical-align: middle;\n",
       "    }\n",
       "\n",
       "    .dataframe tbody tr th {\n",
       "        vertical-align: top;\n",
       "    }\n",
       "\n",
       "    .dataframe thead th {\n",
       "        text-align: right;\n",
       "    }\n",
       "</style>\n",
       "<table border=\"1\" class=\"dataframe\">\n",
       "  <thead>\n",
       "    <tr style=\"text-align: right;\">\n",
       "      <th></th>\n",
       "      <th>id</th>\n",
       "      <th>text</th>\n",
       "      <th>emotion</th>\n",
       "      <th>intensity</th>\n",
       "    </tr>\n",
       "  </thead>\n",
       "  <tbody>\n",
       "    <tr>\n",
       "      <th>1366</th>\n",
       "      <td>20509</td>\n",
       "      <td>i've been rooting for him since the beginning ...</td>\n",
       "      <td>fear</td>\n",
       "      <td>0.521</td>\n",
       "    </tr>\n",
       "    <tr>\n",
       "      <th>2527</th>\n",
       "      <td>30523</td>\n",
       "      <td>I might not pay for my own health insurance bu...</td>\n",
       "      <td>joy</td>\n",
       "      <td>0.417</td>\n",
       "    </tr>\n",
       "    <tr>\n",
       "      <th>2210</th>\n",
       "      <td>30206</td>\n",
       "      <td>He showed us a really lively performance, with...</td>\n",
       "      <td>joy</td>\n",
       "      <td>0.646</td>\n",
       "    </tr>\n",
       "    <tr>\n",
       "      <th>1029</th>\n",
       "      <td>20172</td>\n",
       "      <td>@BBCNews 😝 scared of their own horror story th...</td>\n",
       "      <td>fear</td>\n",
       "      <td>0.708</td>\n",
       "    </tr>\n",
       "    <tr>\n",
       "      <th>3581</th>\n",
       "      <td>40754</td>\n",
       "      <td>Free live music in DC tonight!  #blues with #M...</td>\n",
       "      <td>sadness</td>\n",
       "      <td>0.188</td>\n",
       "    </tr>\n",
       "    <tr>\n",
       "      <th>...</th>\n",
       "      <td>...</td>\n",
       "      <td>...</td>\n",
       "      <td>...</td>\n",
       "      <td>...</td>\n",
       "    </tr>\n",
       "    <tr>\n",
       "      <th>1584</th>\n",
       "      <td>20727</td>\n",
       "      <td>Don't forget 2 test yr #smoke #alarm, #carbon ...</td>\n",
       "      <td>fear</td>\n",
       "      <td>0.417</td>\n",
       "    </tr>\n",
       "    <tr>\n",
       "      <th>2910</th>\n",
       "      <td>40083</td>\n",
       "      <td>@KingJames @chrisbosh\\n To good hearts I lost ...</td>\n",
       "      <td>sadness</td>\n",
       "      <td>0.750</td>\n",
       "    </tr>\n",
       "    <tr>\n",
       "      <th>2377</th>\n",
       "      <td>30373</td>\n",
       "      <td>Watch this amazing live.ly broadcast by @hunte...</td>\n",
       "      <td>joy</td>\n",
       "      <td>0.519</td>\n",
       "    </tr>\n",
       "    <tr>\n",
       "      <th>2654</th>\n",
       "      <td>30650</td>\n",
       "      <td>@niceoneWern @Alotta_Pain the gleesome threesome</td>\n",
       "      <td>joy</td>\n",
       "      <td>0.320</td>\n",
       "    </tr>\n",
       "    <tr>\n",
       "      <th>1036</th>\n",
       "      <td>20179</td>\n",
       "      <td>Tomorrow is going to be a challenge, I have to...</td>\n",
       "      <td>fear</td>\n",
       "      <td>0.700</td>\n",
       "    </tr>\n",
       "  </tbody>\n",
       "</table>\n",
       "<p>3613 rows × 4 columns</p>\n",
       "</div>"
      ],
      "text/plain": [
       "         id                                               text  emotion  \\\n",
       "1366  20509  i've been rooting for him since the beginning ...     fear   \n",
       "2527  30523  I might not pay for my own health insurance bu...      joy   \n",
       "2210  30206  He showed us a really lively performance, with...      joy   \n",
       "1029  20172  @BBCNews 😝 scared of their own horror story th...     fear   \n",
       "3581  40754  Free live music in DC tonight!  #blues with #M...  sadness   \n",
       "...     ...                                                ...      ...   \n",
       "1584  20727  Don't forget 2 test yr #smoke #alarm, #carbon ...     fear   \n",
       "2910  40083  @KingJames @chrisbosh\\n To good hearts I lost ...  sadness   \n",
       "2377  30373  Watch this amazing live.ly broadcast by @hunte...      joy   \n",
       "2654  30650   @niceoneWern @Alotta_Pain the gleesome threesome      joy   \n",
       "1036  20179  Tomorrow is going to be a challenge, I have to...     fear   \n",
       "\n",
       "      intensity  \n",
       "1366      0.521  \n",
       "2527      0.417  \n",
       "2210      0.646  \n",
       "1029      0.708  \n",
       "3581      0.188  \n",
       "...         ...  \n",
       "1584      0.417  \n",
       "2910      0.750  \n",
       "2377      0.519  \n",
       "2654      0.320  \n",
       "1036      0.700  \n",
       "\n",
       "[3613 rows x 4 columns]"
      ]
     },
     "execution_count": 7,
     "metadata": {},
     "output_type": "execute_result"
    }
   ],
   "source": [
    "train_df"
   ]
  },
  {
   "cell_type": "code",
   "execution_count": 5,
   "metadata": {},
   "outputs": [
    {
     "data": {
      "text/html": [
       "<div>\n",
       "<style scoped>\n",
       "    .dataframe tbody tr th:only-of-type {\n",
       "        vertical-align: middle;\n",
       "    }\n",
       "\n",
       "    .dataframe tbody tr th {\n",
       "        vertical-align: top;\n",
       "    }\n",
       "\n",
       "    .dataframe thead th {\n",
       "        text-align: right;\n",
       "    }\n",
       "</style>\n",
       "<table border=\"1\" class=\"dataframe\">\n",
       "  <thead>\n",
       "    <tr style=\"text-align: right;\">\n",
       "      <th></th>\n",
       "      <th>id</th>\n",
       "      <th>text</th>\n",
       "      <th>emotion</th>\n",
       "      <th>intensity</th>\n",
       "    </tr>\n",
       "  </thead>\n",
       "  <tbody>\n",
       "    <tr>\n",
       "      <th>0</th>\n",
       "      <td>10000</td>\n",
       "      <td>How the fu*k! Who the heck! moved my fridge!.....</td>\n",
       "      <td>anger</td>\n",
       "      <td>0.938</td>\n",
       "    </tr>\n",
       "    <tr>\n",
       "      <th>1</th>\n",
       "      <td>10001</td>\n",
       "      <td>So my Indian Uber driver just called someone t...</td>\n",
       "      <td>anger</td>\n",
       "      <td>0.896</td>\n",
       "    </tr>\n",
       "    <tr>\n",
       "      <th>2</th>\n",
       "      <td>10002</td>\n",
       "      <td>@DPD_UK I asked for my parcel to be delivered ...</td>\n",
       "      <td>anger</td>\n",
       "      <td>0.896</td>\n",
       "    </tr>\n",
       "    <tr>\n",
       "      <th>3</th>\n",
       "      <td>10003</td>\n",
       "      <td>so ef whichever butt wipe pulled the fire alar...</td>\n",
       "      <td>anger</td>\n",
       "      <td>0.896</td>\n",
       "    </tr>\n",
       "    <tr>\n",
       "      <th>4</th>\n",
       "      <td>10004</td>\n",
       "      <td>Don't join @BTCare they put the phone down on ...</td>\n",
       "      <td>anger</td>\n",
       "      <td>0.896</td>\n",
       "    </tr>\n",
       "    <tr>\n",
       "      <th>...</th>\n",
       "      <td>...</td>\n",
       "      <td>...</td>\n",
       "      <td>...</td>\n",
       "      <td>...</td>\n",
       "    </tr>\n",
       "    <tr>\n",
       "      <th>3608</th>\n",
       "      <td>40781</td>\n",
       "      <td>@VivienLloyd Thank you so much! Just home - st...</td>\n",
       "      <td>sadness</td>\n",
       "      <td>0.104</td>\n",
       "    </tr>\n",
       "    <tr>\n",
       "      <th>3609</th>\n",
       "      <td>40782</td>\n",
       "      <td>Just put the winter duvet on ☃️❄️🌬☔️</td>\n",
       "      <td>sadness</td>\n",
       "      <td>0.104</td>\n",
       "    </tr>\n",
       "    <tr>\n",
       "      <th>3610</th>\n",
       "      <td>40783</td>\n",
       "      <td>@SilkInSide @TommyJoeRatliff that's so pretty!...</td>\n",
       "      <td>sadness</td>\n",
       "      <td>0.088</td>\n",
       "    </tr>\n",
       "    <tr>\n",
       "      <th>3611</th>\n",
       "      <td>40784</td>\n",
       "      <td>@BluesfestByron second artist announcement loo...</td>\n",
       "      <td>sadness</td>\n",
       "      <td>0.083</td>\n",
       "    </tr>\n",
       "    <tr>\n",
       "      <th>3612</th>\n",
       "      <td>40785</td>\n",
       "      <td>I can literally eat creamy pesto pasta topped ...</td>\n",
       "      <td>sadness</td>\n",
       "      <td>0.083</td>\n",
       "    </tr>\n",
       "  </tbody>\n",
       "</table>\n",
       "<p>3613 rows × 4 columns</p>\n",
       "</div>"
      ],
      "text/plain": [
       "         id                                               text  emotion  \\\n",
       "0     10000  How the fu*k! Who the heck! moved my fridge!.....    anger   \n",
       "1     10001  So my Indian Uber driver just called someone t...    anger   \n",
       "2     10002  @DPD_UK I asked for my parcel to be delivered ...    anger   \n",
       "3     10003  so ef whichever butt wipe pulled the fire alar...    anger   \n",
       "4     10004  Don't join @BTCare they put the phone down on ...    anger   \n",
       "...     ...                                                ...      ...   \n",
       "3608  40781  @VivienLloyd Thank you so much! Just home - st...  sadness   \n",
       "3609  40782              Just put the winter duvet on ☃️❄️🌬☔️   sadness   \n",
       "3610  40783  @SilkInSide @TommyJoeRatliff that's so pretty!...  sadness   \n",
       "3611  40784  @BluesfestByron second artist announcement loo...  sadness   \n",
       "3612  40785  I can literally eat creamy pesto pasta topped ...  sadness   \n",
       "\n",
       "      intensity  \n",
       "0         0.938  \n",
       "1         0.896  \n",
       "2         0.896  \n",
       "3         0.896  \n",
       "4         0.896  \n",
       "...         ...  \n",
       "3608      0.104  \n",
       "3609      0.104  \n",
       "3610      0.088  \n",
       "3611      0.083  \n",
       "3612      0.083  \n",
       "\n",
       "[3613 rows x 4 columns]"
      ]
     },
     "execution_count": 5,
     "metadata": {},
     "output_type": "execute_result"
    }
   ],
   "source": [
    "### testing data\n",
    "anger_test = pd.read_csv(r\"C:\\Users\\Leanlab908-4\\OneDrive - NTHU\\桌面\\DMLab2\\DM2023-Lab2-Master\\data\\semeval\\dev\\anger-ratings-0to1.dev.gold.txt\", sep=\"\\t\", header=None, names=[\"id\", \"text\", \"emotion\", \"intensity\"])\n",
    "\n",
    "sadness_test = pd.read_csv(r\"C:\\Users\\Leanlab908-4\\OneDrive - NTHU\\桌面\\DMLab2\\DM2023-Lab2-Master\\data\\semeval\\dev\\sadness-ratings-0to1.dev.gold.txt\", sep=\"\\t\", header=None, names=[\"id\", \"text\", \"emotion\", \"intensity\"])\n",
    "\n",
    "fear_test = pd.read_csv(r\"C:\\Users\\Leanlab908-4\\OneDrive - NTHU\\桌面\\DMLab2\\DM2023-Lab2-Master\\data\\semeval\\dev\\fear-ratings-0to1.dev.gold.txt\", sep=\"\\t\", header=None, names=[\"id\", \"text\", \"emotion\", \"intensity\"])\n",
    "\n",
    "joy_test = pd.read_csv(r\"C:\\Users\\Leanlab908-4\\OneDrive - NTHU\\桌面\\DMLab2\\DM2023-Lab2-Master\\data\\semeval\\dev\\joy-ratings-0to1.dev.gold.txt\", sep=\"\\t\", header=None, names=[\"id\", \"text\", \"emotion\", \"intensity\"])\n",
    "\n",
    "\n",
    "# combine 4 sub-dataset\n",
    "test_df = pd.concat([anger_test, fear_test, joy_test, sadness_test], ignore_index=True)\n",
    "train_df"
   ]
  },
  {
   "cell_type": "code",
   "execution_count": 8,
   "metadata": {},
   "outputs": [],
   "source": [
    "# shuffle dataset\n",
    "train_df = train_df.sample(frac=1) #如 frac=0.6 會隨機選取 60 percent data \n",
    "test_df = test_df.sample(frac=1)"
   ]
  },
  {
   "cell_type": "code",
   "execution_count": 9,
   "metadata": {},
   "outputs": [
    {
     "name": "stdout",
     "output_type": "stream",
     "text": [
      "Shape of Training df:  (3613, 4)\n",
      "Shape of Testing df:  (347, 4)\n"
     ]
    }
   ],
   "source": [
    "print(\"Shape of Training df: \", train_df.shape)\n",
    "print(\"Shape of Testing df: \", test_df.shape)"
   ]
  },
  {
   "cell_type": "markdown",
   "metadata": {},
   "source": [
    "# Exercise 1"
   ]
  },
  {
   "cell_type": "code",
   "execution_count": 10,
   "metadata": {},
   "outputs": [
    {
     "name": "stderr",
     "output_type": "stream",
     "text": [
      "[nltk_data] Downloading package punkt to\n",
      "[nltk_data]     C:\\Users\\Leanlab908-4\\AppData\\Roaming\\nltk_data...\n",
      "[nltk_data]   Package punkt is already up-to-date!\n"
     ]
    },
    {
     "data": {
      "text/plain": [
       "True"
      ]
     },
     "execution_count": 10,
     "metadata": {},
     "output_type": "execute_result"
    }
   ],
   "source": [
    "import nltk\n",
    "nltk.download('punkt')"
   ]
  },
  {
   "cell_type": "code",
   "execution_count": 14,
   "metadata": {
    "scrolled": true
   },
   "outputs": [
    {
     "name": "stderr",
     "output_type": "stream",
     "text": [
      "C:\\Users\\Leanlab908-4\\anaconda3\\Lib\\site-packages\\sklearn\\feature_extraction\\text.py:525: UserWarning: The parameter 'token_pattern' will not be used since 'tokenizer' is not None'\n",
      "  warnings.warn(\n"
     ]
    },
    {
     "data": {
      "image/png": "[encoded data removed]",
      "text/plain": [
       "<Figure size 1000x1300 with 2 Axes>"
      ]
     },
     "metadata": {},
     "output_type": "display_data"
    }
   ],
   "source": [
    "from sklearn.feature_extraction.text import TfidfVectorizer\n",
    "import numpy as np\n",
    "import matplotlib.pyplot as plt\n",
    "import seaborn as sns\n",
    "\n",
    "#tfidf 設定 and transform\n",
    "tfidf_vectorizer = TfidfVectorizer(tokenizer=nltk.word_tokenize)\n",
    "tfidf_vectorizer.fit(train_df['text'])\n",
    "\n",
    "# Extract TF-IDF features\n",
    "train_data_tfidf_features = tfidf_vectorizer.transform(train_df['text'])\n",
    "test_data_tfidf_features = tfidf_vectorizer.transform(test_df['text'])\n",
    "\n",
    "# get the features name\n",
    "feature_names_tfidf = tfidf_vectorizer.get_feature_names_out()\n",
    "\n",
    "# Plot the top 30 words based on TF-IDF\n",
    "train_tfidf_sum = np.asarray(train_data_tfidf_features.sum(axis=0)).ravel()\n",
    "df_train_tfidf = pd.DataFrame(zip(train_tfidf_sum, feature_names_tfidf), columns=['tfidf', 'terms'])\n",
    "df_train_tfidf = df_train_tfidf.sort_values('tfidf', ascending=False)[:30]\n",
    "\n",
    "test_tfidf_sum = np.asarray(test_data_tfidf_features.sum(axis=0)).ravel()\n",
    "df_test_tfidf = pd.DataFrame(zip(test_tfidf_sum, feature_names_tfidf), columns=['tfidf', 'terms'])\n",
    "df_test_tfidf = df_test_tfidf.sort_values('tfidf', ascending=False)[:30]\n",
    "\n",
    "fig, axs = plt.subplots(2, 1, figsize=(10, 13))\n",
    "axs[0].set_title('Top 30 word TF-IDF in Train data')\n",
    "axs[1].set_title('Top 30 word TF-IDF in Test data')\n",
    "\n",
    "g_1 = sns.barplot(x=df_train_tfidf['terms'], y=df_train_tfidf['tfidf'], ax=axs[0])\n",
    "g_1.set_xticklabels(df_train_tfidf['terms'], rotation=90)\n",
    "g_2 = sns.barplot(x=df_test_tfidf['terms'], y=df_test_tfidf['tfidf'], ax=axs[1])\n",
    "g_2.set_xticklabels(df_test_tfidf['terms'], rotation=90)\n",
    "\n",
    "plt.show()"
   ]
  },
  {
   "cell_type": "markdown",
   "metadata": {},
   "source": [
    "------------------------------------------------------------------------"
   ]
  },
  {
   "cell_type": "code",
   "execution_count": 15,
   "metadata": {},
   "outputs": [],
   "source": [
    "## save to pickle file\n",
    "train_df.to_pickle(\"train_df.pkl\") \n",
    "test_df.to_pickle(\"test_df.pkl\")"
   ]
  },
  {
   "cell_type": "code",
   "execution_count": null,
   "metadata": {},
   "outputs": [],
   "source": [
    "import pandas as pd\n",
    "\n",
    "## load a pickle file\n",
    "train_df = pd.read_pickle(\"train_df.pkl\")\n",
    "test_df = pd.read_pickle(\"test_df.pkl\")"
   ]
  },
  {
   "cell_type": "code",
   "execution_count": 16,
   "metadata": {},
   "outputs": [
    {
     "data": {
      "text/plain": [
       "emotion\n",
       "anger       857\n",
       "fear       1147\n",
       "joy         823\n",
       "sadness     786\n",
       "Name: text, dtype: int64"
      ]
     },
     "execution_count": 16,
     "metadata": {},
     "output_type": "execute_result"
    }
   ],
   "source": [
    "# group to find distribution\n",
    "train_df.groupby(['emotion']).count()['text']"
   ]
  },
  {
   "cell_type": "code",
   "execution_count": 17,
   "metadata": {},
   "outputs": [
    {
     "data": {
      "image/png": "[encoded data removed]",
      "text/plain": [
       "<Figure size 500x300 with 1 Axes>"
      ]
     },
     "metadata": {},
     "output_type": "display_data"
    }
   ],
   "source": [
    "%matplotlib inline\n",
    "import numpy as np\n",
    "import matplotlib.pyplot as plt\n",
    "\n",
    "# the histogram of the data\n",
    "labels = train_df['emotion'].unique()\n",
    "post_total = len(train_df)\n",
    "df1 = train_df.groupby(['emotion']).count()['text']\n",
    "df1 = df1.apply(lambda x: round(x*100/post_total,3))\n",
    "\n",
    "#plot\n",
    "fig, ax = plt.subplots(figsize=(5,3))\n",
    "plt.bar(df1.index,df1.values)\n",
    "\n",
    "#arrange\n",
    "plt.ylabel('% of instances')\n",
    "plt.xlabel('Emotion')\n",
    "plt.title('Emotion distribution')\n",
    "plt.grid(True)\n",
    "plt.show()"
   ]
  },
  {
   "cell_type": "code",
   "execution_count": 18,
   "metadata": {},
   "outputs": [],
   "source": [
    "from sklearn.feature_extraction.text import CountVectorizer"
   ]
  },
  {
   "cell_type": "code",
   "execution_count": 19,
   "metadata": {},
   "outputs": [],
   "source": [
    "# build analyzers (bag-of-words)\n",
    "BOW_vectorizer = CountVectorizer() "
   ]
  },
  {
   "cell_type": "code",
   "execution_count": 20,
   "metadata": {},
   "outputs": [],
   "source": [
    "# 1. Learn a vocabulary dictionary of all tokens in the raw documents.\n",
    "BOW_vectorizer.fit(train_df['text'])\n",
    "\n",
    "# 2. Transform documents to document-term matrix.\n",
    "train_data_BOW_features = BOW_vectorizer.transform(train_df['text'])\n",
    "test_data_BOW_features = BOW_vectorizer.transform(test_df['text'])"
   ]
  },
  {
   "cell_type": "code",
   "execution_count": 21,
   "metadata": {},
   "outputs": [
    {
     "data": {
      "text/plain": [
       "<3613x10115 sparse matrix of type '<class 'numpy.int64'>'\n",
       "\twith 51467 stored elements in Compressed Sparse Row format>"
      ]
     },
     "execution_count": 21,
     "metadata": {},
     "output_type": "execute_result"
    }
   ],
   "source": [
    "# check the result\n",
    "train_data_BOW_features"
   ]
  },
  {
   "cell_type": "code",
   "execution_count": 22,
   "metadata": {},
   "outputs": [
    {
     "data": {
      "text/plain": [
       "scipy.sparse._csr.csr_matrix"
      ]
     },
     "execution_count": 22,
     "metadata": {},
     "output_type": "execute_result"
    }
   ],
   "source": [
    "type(train_data_BOW_features)"
   ]
  },
  {
   "cell_type": "code",
   "execution_count": 23,
   "metadata": {},
   "outputs": [
    {
     "data": {
      "text/plain": [
       "array([[0, 0, 0, ..., 0, 0, 0],\n",
       "       [0, 0, 0, ..., 0, 0, 0],\n",
       "       [0, 0, 0, ..., 0, 0, 0],\n",
       "       ...,\n",
       "       [0, 0, 0, ..., 0, 0, 0],\n",
       "       [0, 0, 0, ..., 0, 0, 0],\n",
       "       [0, 0, 0, ..., 0, 0, 0]], dtype=int64)"
      ]
     },
     "execution_count": 23,
     "metadata": {},
     "output_type": "execute_result"
    }
   ],
   "source": [
    "# add .toarray() to show\n",
    "train_data_BOW_features.toarray()"
   ]
  },
  {
   "cell_type": "code",
   "execution_count": 24,
   "metadata": {},
   "outputs": [
    {
     "data": {
      "text/plain": [
       "(3613, 10115)"
      ]
     },
     "execution_count": 24,
     "metadata": {},
     "output_type": "execute_result"
    }
   ],
   "source": [
    "# check the dimension\n",
    "train_data_BOW_features.shape"
   ]
  },
  {
   "cell_type": "code",
   "execution_count": 25,
   "metadata": {},
   "outputs": [
    {
     "data": {
      "text/plain": [
       "array(['2k17', '2much', '2nd', '30', '300', '301', '30am', '30pm', '30s',\n",
       "       '31'], dtype=object)"
      ]
     },
     "execution_count": 25,
     "metadata": {},
     "output_type": "execute_result"
    }
   ],
   "source": [
    "# observe some feature names\n",
    "feature_names = BOW_vectorizer.get_feature_names_out()\n",
    "feature_names[100:110]"
   ]
  },
  {
   "cell_type": "code",
   "execution_count": 26,
   "metadata": {},
   "outputs": [
    {
     "name": "stderr",
     "output_type": "stream",
     "text": [
      "[nltk_data] Downloading package punkt to\n",
      "[nltk_data]     C:\\Users\\Leanlab908-4\\AppData\\Roaming\\nltk_data...\n",
      "[nltk_data]   Package punkt is already up-to-date!\n",
      "C:\\Users\\Leanlab908-4\\anaconda3\\Lib\\site-packages\\sklearn\\feature_extraction\\text.py:525: UserWarning: The parameter 'token_pattern' will not be used since 'tokenizer' is not None'\n",
      "  warnings.warn(\n"
     ]
    },
    {
     "name": "stdout",
     "output_type": "stream",
     "text": [
      "(3613, 500)\n"
     ]
    }
   ],
   "source": [
    "from sklearn.feature_extraction.text import CountVectorizer\n",
    "\n",
    "# Import NLTK and download resources\n",
    "import nltk\n",
    "nltk.download('punkt')\n",
    "\n",
    "# Initialize tokenizer\n",
    "BOW_500 = CountVectorizer(max_features=500, tokenizer=nltk.word_tokenize)\n",
    "\n",
    "# Fit the tokenizer on your data\n",
    "BOW_500.fit(train_df['text'])\n",
    "\n",
    "# Transform the data\n",
    "train_data_BOW_features_500 = BOW_500.transform(train_df['text'])\n",
    "\n",
    "# Check dimension\n",
    "print(train_data_BOW_features_500.shape)"
   ]
  },
  {
   "cell_type": "code",
   "execution_count": 27,
   "metadata": {},
   "outputs": [
    {
     "data": {
      "text/plain": [
       "array([[0, 0, 0, ..., 0, 0, 0],\n",
       "       [0, 1, 0, ..., 0, 0, 0],\n",
       "       [0, 0, 0, ..., 0, 0, 0],\n",
       "       ...,\n",
       "       [0, 0, 0, ..., 0, 0, 0],\n",
       "       [0, 0, 0, ..., 0, 0, 0],\n",
       "       [0, 0, 0, ..., 0, 0, 0]], dtype=int64)"
      ]
     },
     "execution_count": 27,
     "metadata": {},
     "output_type": "execute_result"
    }
   ],
   "source": [
    "train_data_BOW_features_500.toarray()"
   ]
  },
  {
   "cell_type": "code",
   "execution_count": 28,
   "metadata": {},
   "outputs": [
    {
     "data": {
      "text/plain": [
       "array(['change', 'cheer', 'cheerful', 'cheerfully', 'cheering', 'cheery',\n",
       "       'come', 'comes', 'could', 'country'], dtype=object)"
      ]
     },
     "execution_count": 28,
     "metadata": {},
     "output_type": "execute_result"
    }
   ],
   "source": [
    "# observe some feature names\n",
    "feature_names_500 = BOW_500.get_feature_names_out()\n",
    "feature_names_500[100:110]"
   ]
  },
  {
   "cell_type": "markdown",
   "metadata": {},
   "source": [
    "# Exercise 2"
   ]
  },
  {
   "cell_type": "code",
   "execution_count": 29,
   "metadata": {},
   "outputs": [
    {
     "name": "stdout",
     "output_type": "stream",
     "text": [
      "[100:110]:\n",
      "['bitter' 'black' 'blacks' 'blame' 'blessed' 'blood' 'bloody' 'blues'\n",
      " 'body' 'boiling' 'book']\n"
     ]
    }
   ],
   "source": [
    "# Answer here\n",
    "from sklearn.feature_extraction.text import TfidfVectorizer\n",
    "\n",
    "# TF-IDF vectorizer with 1000 features\n",
    "tfidf_vectorizer = TfidfVectorizer(max_features=1000)\n",
    "\n",
    "# Fit and transform \n",
    "tfidf_matrix = tfidf_vectorizer.fit_transform(train_df['text'])\n",
    "\n",
    "# Get the feature names\n",
    "feature_names = tfidf_vectorizer.get_feature_names_out()\n",
    "\n",
    "# Display [100:110]\n",
    "print(\"[100:110]:\")\n",
    "print(feature_names[100:111])"
   ]
  },
  {
   "cell_type": "markdown",
   "metadata": {},
   "source": [
    "------------------------------------------------------------------------------"
   ]
  },
  {
   "cell_type": "code",
   "execution_count": 30,
   "metadata": {},
   "outputs": [
    {
     "name": "stdout",
     "output_type": "stream",
     "text": [
      "X_train.shape:  (3613, 500)\n",
      "y_train.shape:  (3613,)\n",
      "X_test.shape:  (347, 500)\n",
      "y_test.shape:  (347,)\n"
     ]
    }
   ],
   "source": [
    "from sklearn.tree import DecisionTreeClassifier\n",
    "\n",
    "# for a classificaiton problem, you need to provide both training & testing data\n",
    "X_train = BOW_500.transform(train_df['text'])\n",
    "y_train = train_df['emotion']\n",
    "\n",
    "X_test = BOW_500.transform(test_df['text'])\n",
    "y_test = test_df['emotion']\n",
    "\n",
    "## take a look at data dimension is a good habit  :)\n",
    "print('X_train.shape: ', X_train.shape)\n",
    "print('y_train.shape: ', y_train.shape)\n",
    "print('X_test.shape: ', X_test.shape)\n",
    "print('y_test.shape: ', y_test.shape)"
   ]
  },
  {
   "cell_type": "code",
   "execution_count": 31,
   "metadata": {},
   "outputs": [
    {
     "data": {
      "text/plain": [
       "array(['anger', 'fear', 'fear', 'anger', 'sadness', 'anger', 'joy',\n",
       "       'sadness', 'fear', 'fear'], dtype=object)"
      ]
     },
     "execution_count": 31,
     "metadata": {},
     "output_type": "execute_result"
    }
   ],
   "source": [
    "## build DecisionTree model\n",
    "DT_model = DecisionTreeClassifier(random_state=1)\n",
    "\n",
    "## training!\n",
    "DT_model = DT_model.fit(X_train, y_train)\n",
    "\n",
    "## predict!\n",
    "y_train_pred = DT_model.predict(X_train)\n",
    "y_test_pred = DT_model.predict(X_test)\n",
    "\n",
    "## so we get the pred result\n",
    "y_test_pred[:10]"
   ]
  },
  {
   "cell_type": "code",
   "execution_count": 32,
   "metadata": {},
   "outputs": [
    {
     "name": "stdout",
     "output_type": "stream",
     "text": [
      "training accuracy: 0.99\n",
      "testing accuracy: 0.68\n"
     ]
    }
   ],
   "source": [
    "## accuracy\n",
    "from sklearn.metrics import accuracy_score\n",
    "\n",
    "acc_train = accuracy_score(y_true=y_train, y_pred=y_train_pred)\n",
    "acc_test = accuracy_score(y_true=y_test, y_pred=y_test_pred)\n",
    "\n",
    "print('training accuracy: {}'.format(round(acc_train, 2)))\n",
    "print('testing accuracy: {}'.format(round(acc_test, 2)))"
   ]
  },
  {
   "cell_type": "code",
   "execution_count": 33,
   "metadata": {},
   "outputs": [
    {
     "name": "stdout",
     "output_type": "stream",
     "text": [
      "              precision    recall  f1-score   support\n",
      "\n",
      "       anger       0.66      0.68      0.67        84\n",
      "        fear       0.66      0.69      0.67       110\n",
      "         joy       0.72      0.71      0.71        79\n",
      "     sadness       0.70      0.64      0.67        74\n",
      "\n",
      "    accuracy                           0.68       347\n",
      "   macro avg       0.68      0.68      0.68       347\n",
      "weighted avg       0.68      0.68      0.68       347\n",
      "\n"
     ]
    }
   ],
   "source": [
    "## precision, recall, f1-score,\n",
    "from sklearn.metrics import classification_report\n",
    "\n",
    "print(classification_report(y_true=y_test, y_pred=y_test_pred))"
   ]
  },
  {
   "cell_type": "code",
   "execution_count": 34,
   "metadata": {},
   "outputs": [
    {
     "name": "stdout",
     "output_type": "stream",
     "text": [
      "              precision    recall  f1-score   support\n",
      "\n",
      "       anger       0.97      1.00      0.98       857\n",
      "        fear       0.98      1.00      0.99      1147\n",
      "         joy       1.00      1.00      1.00       823\n",
      "     sadness       1.00      0.94      0.97       786\n",
      "\n",
      "    accuracy                           0.99      3613\n",
      "   macro avg       0.99      0.98      0.99      3613\n",
      "weighted avg       0.99      0.99      0.99      3613\n",
      "\n"
     ]
    }
   ],
   "source": [
    "## precision, recall, f1-score,\n",
    "from sklearn.metrics import classification_report\n",
    "\n",
    "print(classification_report(y_true=y_train, y_pred=y_train_pred))"
   ]
  },
  {
   "cell_type": "code",
   "execution_count": 35,
   "metadata": {},
   "outputs": [],
   "source": [
    "## check by confusion matrix\n",
    "from sklearn.metrics import confusion_matrix\n",
    "\n",
    "cm = confusion_matrix(y_true=y_test, y_pred=y_test_pred) "
   ]
  },
  {
   "cell_type": "code",
   "execution_count": 36,
   "metadata": {},
   "outputs": [],
   "source": [
    "# Funciton for visualizing confusion_matrix\n",
    "import matplotlib.pyplot as plt\n",
    "import seaborn as sns\n",
    "import numpy as np\n",
    "import itertools\n",
    "\n",
    "def plot_confusion_matrix(cm, classes, title='Confusion matrix',\n",
    "                          cmap=sns.cubehelix_palette(as_cmap=True)):\n",
    "    \"\"\"\n",
    "    This function is modified from: \n",
    "    http://scikit-learn.org/stable/auto_examples/model_selection/plot_confusion_matrix.html\n",
    "    \"\"\"\n",
    "    classes.sort()\n",
    "    tick_marks = np.arange(len(classes))    \n",
    "    \n",
    "    fig, ax = plt.subplots(figsize=(5,5))\n",
    "    im = ax.imshow(cm, interpolation='nearest', cmap=cmap)\n",
    "    ax.figure.colorbar(im, ax=ax)\n",
    "    ax.set(xticks=np.arange(cm.shape[1]),\n",
    "           yticks=np.arange(cm.shape[0]),\n",
    "           xticklabels = classes,\n",
    "           yticklabels = classes,\n",
    "           title = title,\n",
    "           xlabel = 'True label',\n",
    "           ylabel = 'Predicted label')\n",
    "\n",
    "    fmt = 'd'\n",
    "    thresh = cm.max() / 2.\n",
    "    for i, j in itertools.product(range(cm.shape[0]), range(cm.shape[1])):\n",
    "        plt.text(j, i, format(cm[i, j], fmt), horizontalalignment=\"center\", color=\"white\" if cm[i, j] > thresh else \"black\")\n",
    "    ylim_top = len(classes) - 0.5\n",
    "    plt.ylim([ylim_top, -.5])\n",
    "    plt.tight_layout()\n",
    "    plt.show()"
   ]
  },
  {
   "cell_type": "code",
   "execution_count": 37,
   "metadata": {},
   "outputs": [
    {
     "data": {
      "image/png": "[encoded data removed]",
      "text/plain": [
       "<Figure size 500x500 with 2 Axes>"
      ]
     },
     "metadata": {},
     "output_type": "display_data"
    }
   ],
   "source": [
    "# plot your confusion matrix\n",
    "my_tags = ['anger', 'fear', 'joy', 'sadness']\n",
    "plot_confusion_matrix(cm, classes=my_tags, title='Confusion matrix')"
   ]
  },
  {
   "cell_type": "markdown",
   "metadata": {},
   "source": [
    "# Exercise 3"
   ]
  },
  {
   "cell_type": "markdown",
   "metadata": {},
   "source": [
    "Can you interpret the results above? What do they mean?"
   ]
  },
  {
   "cell_type": "markdown",
   "metadata": {},
   "source": [
    "# Answer here\n",
    "The diagonal line means the right prediction. Based on the frequency of right prediction we can know that fear is more easily to be identified.The evaluation indicator, Precision, means the accuracy among predicted as 'positive'. Which means joy owns the highest accuracy when the prediction is postive. And sadness tends to predict as fear."
   ]
  },
  {
   "cell_type": "markdown",
   "metadata": {},
   "source": [
    "# Exercise 4"
   ]
  },
  {
   "cell_type": "code",
   "execution_count": 38,
   "metadata": {},
   "outputs": [
    {
     "name": "stdout",
     "output_type": "stream",
     "text": [
      "X_train.shape:  (3613, 500)\n",
      "y_train.shape:  (3613,)\n",
      "X_test.shape:  (347, 500)\n",
      "y_test.shape:  (347,)\n"
     ]
    }
   ],
   "source": [
    "# Answer here\n",
    "from sklearn.tree import DecisionTreeClassifier\n",
    "\n",
    "# for a classificaiton problem, you need to provide both training & testing data\n",
    "X_train = BOW_500.transform(train_df['text'])\n",
    "y_train = train_df['emotion']\n",
    "\n",
    "X_test = BOW_500.transform(test_df['text'])\n",
    "y_test = test_df['emotion']\n",
    "\n",
    "## take a look at data dimension is a good habit  :)\n",
    "print('X_train.shape: ', X_train.shape)\n",
    "print('y_train.shape: ', y_train.shape)\n",
    "print('X_test.shape: ', X_test.shape)\n",
    "print('y_test.shape: ', y_test.shape)"
   ]
  },
  {
   "cell_type": "code",
   "execution_count": 39,
   "metadata": {},
   "outputs": [],
   "source": [
    "# Answer here\n",
    "#miltinomialNB is design for discrete  data (Text classification)\n",
    "from sklearn.naive_bayes import MultinomialNB\n",
    "\n",
    "model = MultinomialNB()\n",
    "\n",
    "model.fit(X_train, y_train)\n",
    "\n",
    "y_train_pred_NB = model.predict(X_train)\n",
    "\n",
    "y_test_pred_NB = model.predict(X_test)"
   ]
  },
  {
   "cell_type": "code",
   "execution_count": 40,
   "metadata": {},
   "outputs": [
    {
     "name": "stdout",
     "output_type": "stream",
     "text": [
      "              precision    recall  f1-score   support\n",
      "\n",
      "       anger       0.77      0.80      0.78       857\n",
      "        fear       0.78      0.81      0.79      1147\n",
      "         joy       0.87      0.80      0.83       823\n",
      "     sadness       0.76      0.75      0.76       786\n",
      "\n",
      "    accuracy                           0.79      3613\n",
      "   macro avg       0.79      0.79      0.79      3613\n",
      "weighted avg       0.79      0.79      0.79      3613\n",
      "\n"
     ]
    }
   ],
   "source": [
    "## precision, recall, f1-score for train data\n",
    "from sklearn.metrics import classification_report\n",
    "\n",
    "print(classification_report(y_true=y_train, y_pred=y_train_pred_NB))"
   ]
  },
  {
   "cell_type": "code",
   "execution_count": 43,
   "metadata": {},
   "outputs": [
    {
     "name": "stdout",
     "output_type": "stream",
     "text": [
      "              precision    recall  f1-score   support\n",
      "\n",
      "       anger       0.63      0.65      0.64        84\n",
      "        fear       0.73      0.77      0.75       110\n",
      "         joy       0.78      0.71      0.74        79\n",
      "     sadness       0.64      0.62      0.63        74\n",
      "\n",
      "    accuracy                           0.70       347\n",
      "   macro avg       0.70      0.69      0.69       347\n",
      "weighted avg       0.70      0.70      0.70       347\n",
      "\n"
     ]
    }
   ],
   "source": [
    "## precision, recall, f1-score for test data\n",
    "print(classification_report(y_true=y_test, y_pred=y_test_pred_NB))"
   ]
  },
  {
   "cell_type": "markdown",
   "metadata": {},
   "source": [
    "# Exercise 5"
   ]
  },
  {
   "cell_type": "markdown",
   "metadata": {},
   "source": [
    "How do the results from the Naive Bayes model and the Decision Tree model compare? How do you interpret these differences? Use the theoretical background covered in class to try and explain these differences."
   ]
  },
  {
   "cell_type": "markdown",
   "metadata": {},
   "source": [
    "# Answer here\n",
    "We can examine the general prediction result from the two models. The value through the four evaluation indicators, which are precision, recall, accuracy and f1-score, naive bayes provides a higher score overall. Which means that we can seem naive bayes as a better-performing model.\n",
    "\n",
    "I also find there's a significant difference in the f1 score of train and test data in Decision Tree. The test data owns a lower score. However, the f1-score in Naive Bayes between train and test isvery balanced. We can know that there might be a problem of underfitting on Decision Tree model.Since the model is too simple.\n",
    "\n",
    "To improve the model performance, we can try to upply hyperparameter to underfitting model. And for Naive Bayes, we can try to use feature engineering."
   ]
  },
  {
   "cell_type": "markdown",
   "metadata": {},
   "source": [
    " ---------------------------------------------------------------------------------------"
   ]
  },
  {
   "cell_type": "code",
   "execution_count": 44,
   "metadata": {},
   "outputs": [
    {
     "name": "stdout",
     "output_type": "stream",
     "text": [
      "WARNING:tensorflow:From C:\\Users\\Leanlab908-4\\anaconda3\\Lib\\site-packages\\keras\\src\\losses.py:2976: The name tf.losses.sparse_softmax_cross_entropy is deprecated. Please use tf.compat.v1.losses.sparse_softmax_cross_entropy instead.\n",
      "\n",
      "X_train.shape:  (3613, 500)\n",
      "y_train.shape:  (3613,)\n",
      "X_test.shape:  (347, 500)\n",
      "y_test.shape:  (347,)\n"
     ]
    }
   ],
   "source": [
    "import keras\n",
    "\n",
    "# standardize name (X, y) \n",
    "X_train = BOW_500.transform(train_df['text'])\n",
    "y_train = train_df['emotion']\n",
    "\n",
    "X_test = BOW_500.transform(test_df['text'])\n",
    "y_test = test_df['emotion']\n",
    "\n",
    "## check dimension is a good habbit \n",
    "print('X_train.shape: ', X_train.shape)\n",
    "print('y_train.shape: ', y_train.shape)\n",
    "print('X_test.shape: ', X_test.shape)\n",
    "print('y_test.shape: ', y_test.shape)"
   ]
  },
  {
   "cell_type": "code",
   "execution_count": 45,
   "metadata": {},
   "outputs": [
    {
     "name": "stdout",
     "output_type": "stream",
     "text": [
      "check label:  ['anger' 'fear' 'joy' 'sadness']\n",
      "\n",
      "## Before convert\n",
      "y_train[0:4]:\n",
      " 2098        joy\n",
      "2957    sadness\n",
      "1102       fear\n",
      "905        fear\n",
      "Name: emotion, dtype: object\n",
      "\n",
      "y_train.shape:  (3613,)\n",
      "y_test.shape:  (347,)\n",
      "\n",
      "\n",
      "## After convert\n",
      "y_train[0:4]:\n",
      " [[0. 0. 1. 0.]\n",
      " [0. 0. 0. 1.]\n",
      " [0. 1. 0. 0.]\n",
      " [0. 1. 0. 0.]]\n",
      "\n",
      "y_train.shape:  (3613, 4)\n",
      "y_test.shape:  (347, 4)\n"
     ]
    }
   ],
   "source": [
    "## deal with label (string -> one-hot)\n",
    "\n",
    "from sklearn.preprocessing import LabelEncoder\n",
    "\n",
    "label_encoder = LabelEncoder()\n",
    "label_encoder.fit(y_train)\n",
    "print('check label: ', label_encoder.classes_)\n",
    "print('\\n## Before convert')\n",
    "print('y_train[0:4]:\\n', y_train[0:4])\n",
    "print('\\ny_train.shape: ', y_train.shape)\n",
    "print('y_test.shape: ', y_test.shape)\n",
    "\n",
    "def label_encode(le, labels):\n",
    "    enc = le.transform(labels)\n",
    "    return keras.utils.to_categorical(enc)\n",
    "\n",
    "def label_decode(le, one_hot_label):\n",
    "    dec = np.argmax(one_hot_label, axis=1)\n",
    "    return le.inverse_transform(dec)\n",
    "\n",
    "y_train = label_encode(label_encoder, y_train)\n",
    "y_test = label_encode(label_encoder, y_test)\n",
    "\n",
    "print('\\n\\n## After convert')\n",
    "print('y_train[0:4]:\\n', y_train[0:4])\n",
    "print('\\ny_train.shape: ', y_train.shape)\n",
    "print('y_test.shape: ', y_test.shape)"
   ]
  },
  {
   "cell_type": "code",
   "execution_count": 46,
   "metadata": {},
   "outputs": [
    {
     "name": "stdout",
     "output_type": "stream",
     "text": [
      "input_shape:  500\n",
      "output_shape:  4\n"
     ]
    }
   ],
   "source": [
    "# I/O check\n",
    "input_shape = X_train.shape[1]\n",
    "print('input_shape: ', input_shape)\n",
    "\n",
    "output_shape = len(label_encoder.classes_)\n",
    "print('output_shape: ', output_shape)"
   ]
  },
  {
   "cell_type": "code",
   "execution_count": 47,
   "metadata": {},
   "outputs": [
    {
     "name": "stdout",
     "output_type": "stream",
     "text": [
      "WARNING:tensorflow:From C:\\Users\\Leanlab908-4\\anaconda3\\Lib\\site-packages\\keras\\src\\backend.py:1398: The name tf.executing_eagerly_outside_functions is deprecated. Please use tf.compat.v1.executing_eagerly_outside_functions instead.\n",
      "\n",
      "WARNING:tensorflow:From C:\\Users\\Leanlab908-4\\anaconda3\\Lib\\site-packages\\keras\\src\\optimizers\\__init__.py:309: The name tf.train.Optimizer is deprecated. Please use tf.compat.v1.train.Optimizer instead.\n",
      "\n",
      "Model: \"model\"\n",
      "_________________________________________________________________\n",
      " Layer (type)                Output Shape              Param #   \n",
      "=================================================================\n",
      " input_1 (InputLayer)        [(None, 500)]             0         \n",
      "                                                                 \n",
      " dense (Dense)               (None, 64)                32064     \n",
      "                                                                 \n",
      " re_lu (ReLU)                (None, 64)                0         \n",
      "                                                                 \n",
      " dense_1 (Dense)             (None, 64)                4160      \n",
      "                                                                 \n",
      " re_lu_1 (ReLU)              (None, 64)                0         \n",
      "                                                                 \n",
      " dense_2 (Dense)             (None, 4)                 260       \n",
      "                                                                 \n",
      " softmax (Softmax)           (None, 4)                 0         \n",
      "                                                                 \n",
      "=================================================================\n",
      "Total params: 36484 (142.52 KB)\n",
      "Trainable params: 36484 (142.52 KB)\n",
      "Non-trainable params: 0 (0.00 Byte)\n",
      "_________________________________________________________________\n"
     ]
    }
   ],
   "source": [
    "from keras.models import Model\n",
    "from keras.layers import Input, Dense\n",
    "from keras.layers import ReLU, Softmax\n",
    "\n",
    "# input layer\n",
    "model_input = Input(shape=(input_shape, ))  # 500\n",
    "X = model_input\n",
    "\n",
    "# 1st hidden layer\n",
    "X_W1 = Dense(units=64)(X)  # 64\n",
    "H1 = ReLU()(X_W1)\n",
    "\n",
    "# 2nd hidden layer\n",
    "H1_W2 = Dense(units=64)(H1)  # 64\n",
    "H2 = ReLU()(H1_W2)\n",
    "\n",
    "# output layer\n",
    "H2_W3 = Dense(units=output_shape)(H2)  # 4\n",
    "H3 = Softmax()(H2_W3)\n",
    "\n",
    "model_output = H3\n",
    "\n",
    "# create model\n",
    "model = Model(inputs=[model_input], outputs=[model_output])\n",
    "\n",
    "# loss function & optimizer\n",
    "model.compile(optimizer='adam',\n",
    "              loss='categorical_crossentropy',\n",
    "              metrics=['accuracy'])\n",
    "\n",
    "# show model construction\n",
    "model.summary()"
   ]
  },
  {
   "cell_type": "code",
   "execution_count": 48,
   "metadata": {},
   "outputs": [
    {
     "name": "stdout",
     "output_type": "stream",
     "text": [
      "Epoch 1/25\n",
      "WARNING:tensorflow:From C:\\Users\\Leanlab908-4\\anaconda3\\Lib\\site-packages\\keras\\src\\utils\\tf_utils.py:492: The name tf.ragged.RaggedTensorValue is deprecated. Please use tf.compat.v1.ragged.RaggedTensorValue instead.\n",
      "\n",
      "WARNING:tensorflow:From C:\\Users\\Leanlab908-4\\anaconda3\\Lib\\site-packages\\keras\\src\\engine\\base_layer_utils.py:384: The name tf.executing_eagerly_outside_functions is deprecated. Please use tf.compat.v1.executing_eagerly_outside_functions instead.\n",
      "\n",
      "113/113 [==============================] - 2s 4ms/step - loss: 1.3339 - accuracy: 0.3460 - val_loss: 1.2884 - val_accuracy: 0.4179\n",
      "Epoch 2/25\n",
      "113/113 [==============================] - 0s 2ms/step - loss: 1.0132 - accuracy: 0.6347 - val_loss: 0.9612 - val_accuracy: 0.6369\n",
      "Epoch 3/25\n",
      "113/113 [==============================] - 0s 2ms/step - loss: 0.5964 - accuracy: 0.7833 - val_loss: 0.7821 - val_accuracy: 0.6945\n",
      "Epoch 4/25\n",
      "113/113 [==============================] - 0s 2ms/step - loss: 0.4260 - accuracy: 0.8406 - val_loss: 0.7817 - val_accuracy: 0.7089\n",
      "Epoch 5/25\n",
      "113/113 [==============================] - 0s 2ms/step - loss: 0.3378 - accuracy: 0.8782 - val_loss: 0.8132 - val_accuracy: 0.6888\n",
      "Epoch 6/25\n",
      "113/113 [==============================] - 0s 2ms/step - loss: 0.2755 - accuracy: 0.9012 - val_loss: 0.8605 - val_accuracy: 0.6830\n",
      "Epoch 7/25\n",
      "113/113 [==============================] - 0s 2ms/step - loss: 0.2238 - accuracy: 0.9258 - val_loss: 0.9147 - val_accuracy: 0.6686\n",
      "Epoch 8/25\n",
      "113/113 [==============================] - 0s 2ms/step - loss: 0.1891 - accuracy: 0.9386 - val_loss: 0.9394 - val_accuracy: 0.6744\n",
      "Epoch 9/25\n",
      "113/113 [==============================] - 0s 2ms/step - loss: 0.1550 - accuracy: 0.9516 - val_loss: 1.0120 - val_accuracy: 0.6888\n",
      "Epoch 10/25\n",
      "113/113 [==============================] - 0s 2ms/step - loss: 0.1411 - accuracy: 0.9588 - val_loss: 1.0498 - val_accuracy: 0.6744\n",
      "Epoch 11/25\n",
      "113/113 [==============================] - 0s 2ms/step - loss: 0.1218 - accuracy: 0.9637 - val_loss: 1.1307 - val_accuracy: 0.6916\n",
      "Epoch 12/25\n",
      "113/113 [==============================] - 0s 2ms/step - loss: 0.1128 - accuracy: 0.9657 - val_loss: 1.1256 - val_accuracy: 0.6830\n",
      "Epoch 13/25\n",
      "113/113 [==============================] - 0s 2ms/step - loss: 0.1002 - accuracy: 0.9709 - val_loss: 1.1619 - val_accuracy: 0.6859\n",
      "Epoch 14/25\n",
      "113/113 [==============================] - 0s 2ms/step - loss: 0.0949 - accuracy: 0.9690 - val_loss: 1.1896 - val_accuracy: 0.6744\n",
      "Epoch 15/25\n",
      "113/113 [==============================] - 0s 2ms/step - loss: 0.0938 - accuracy: 0.9726 - val_loss: 1.2069 - val_accuracy: 0.6830\n",
      "Epoch 16/25\n",
      "113/113 [==============================] - 0s 2ms/step - loss: 0.0837 - accuracy: 0.9740 - val_loss: 1.2943 - val_accuracy: 0.6859\n",
      "Epoch 17/25\n",
      "113/113 [==============================] - 0s 2ms/step - loss: 0.0820 - accuracy: 0.9718 - val_loss: 1.3681 - val_accuracy: 0.6772\n",
      "Epoch 18/25\n",
      "113/113 [==============================] - 0s 2ms/step - loss: 0.0766 - accuracy: 0.9751 - val_loss: 1.3704 - val_accuracy: 0.6772\n",
      "Epoch 19/25\n",
      "113/113 [==============================] - 0s 2ms/step - loss: 0.0708 - accuracy: 0.9737 - val_loss: 1.3522 - val_accuracy: 0.6715\n",
      "Epoch 20/25\n",
      "113/113 [==============================] - 0s 2ms/step - loss: 0.0705 - accuracy: 0.9740 - val_loss: 1.3932 - val_accuracy: 0.6744\n",
      "Epoch 21/25\n",
      "113/113 [==============================] - 0s 2ms/step - loss: 0.0679 - accuracy: 0.9743 - val_loss: 1.4244 - val_accuracy: 0.6801\n",
      "Epoch 22/25\n",
      "113/113 [==============================] - 0s 2ms/step - loss: 0.0668 - accuracy: 0.9768 - val_loss: 1.4769 - val_accuracy: 0.6542\n",
      "Epoch 23/25\n",
      "113/113 [==============================] - 0s 2ms/step - loss: 0.0675 - accuracy: 0.9765 - val_loss: 1.4922 - val_accuracy: 0.6657\n",
      "Epoch 24/25\n",
      "113/113 [==============================] - 0s 2ms/step - loss: 0.0630 - accuracy: 0.9787 - val_loss: 1.4997 - val_accuracy: 0.6744\n",
      "Epoch 25/25\n",
      "113/113 [==============================] - 0s 2ms/step - loss: 0.0597 - accuracy: 0.9776 - val_loss: 1.5516 - val_accuracy: 0.6657\n",
      "training finish\n"
     ]
    }
   ],
   "source": [
    "import os\n",
    "from keras.callbacks import CSVLogger\n",
    "# Ensure the 'logs' directory exists\n",
    "os.makedirs('logs', exist_ok=True)\n",
    "\n",
    "csv_logger = CSVLogger('logs/training_log.csv')\n",
    "\n",
    "# training setting\n",
    "epochs = 25\n",
    "batch_size = 32\n",
    "\n",
    "# training!\n",
    "history = model.fit(X_train, y_train, \n",
    "                    epochs=epochs, \n",
    "                    batch_size=batch_size, \n",
    "                    callbacks=[csv_logger],\n",
    "                    validation_data = (X_test, y_test))\n",
    "print('training finish')"
   ]
  },
  {
   "cell_type": "code",
   "execution_count": 49,
   "metadata": {},
   "outputs": [
    {
     "name": "stdout",
     "output_type": "stream",
     "text": [
      "3/3 [==============================] - 0s 2ms/step\n"
     ]
    },
    {
     "data": {
      "text/plain": [
       "array([[5.3764642e-03, 9.8512888e-01, 6.8009052e-05, 9.4266068e-03],\n",
       "       [1.8890757e-03, 9.0288979e-01, 9.5003240e-02, 2.1790636e-04],\n",
       "       [1.6736066e-02, 9.8236775e-01, 4.9861434e-12, 8.9625630e-04],\n",
       "       [8.8652366e-01, 9.9267900e-06, 1.1334567e-01, 1.2064598e-04],\n",
       "       [8.7554461e-01, 2.3660468e-02, 5.5316230e-04, 1.0024172e-01]],\n",
       "      dtype=float32)"
      ]
     },
     "execution_count": 49,
     "metadata": {},
     "output_type": "execute_result"
    }
   ],
   "source": [
    "## predict\n",
    "pred_result = model.predict(X_test, batch_size=128)\n",
    "pred_result[:5]"
   ]
  },
  {
   "cell_type": "code",
   "execution_count": 50,
   "metadata": {},
   "outputs": [
    {
     "data": {
      "text/plain": [
       "array(['fear', 'fear', 'fear', 'anger', 'anger'], dtype=object)"
      ]
     },
     "execution_count": 50,
     "metadata": {},
     "output_type": "execute_result"
    }
   ],
   "source": [
    "pred_result = label_decode(label_encoder, pred_result)\n",
    "pred_result[:5]"
   ]
  },
  {
   "cell_type": "code",
   "execution_count": 51,
   "metadata": {},
   "outputs": [
    {
     "name": "stdout",
     "output_type": "stream",
     "text": [
      "testing accuracy: 0.67\n"
     ]
    }
   ],
   "source": [
    "from sklearn.metrics import accuracy_score\n",
    "\n",
    "print('testing accuracy: {}'.format(round(accuracy_score(label_decode(label_encoder, y_test), pred_result), 2)))"
   ]
  },
  {
   "cell_type": "code",
   "execution_count": 52,
   "metadata": {},
   "outputs": [
    {
     "data": {
      "text/html": [
       "<div>\n",
       "<style scoped>\n",
       "    .dataframe tbody tr th:only-of-type {\n",
       "        vertical-align: middle;\n",
       "    }\n",
       "\n",
       "    .dataframe tbody tr th {\n",
       "        vertical-align: top;\n",
       "    }\n",
       "\n",
       "    .dataframe thead th {\n",
       "        text-align: right;\n",
       "    }\n",
       "</style>\n",
       "<table border=\"1\" class=\"dataframe\">\n",
       "  <thead>\n",
       "    <tr style=\"text-align: right;\">\n",
       "      <th></th>\n",
       "      <th>epoch</th>\n",
       "      <th>accuracy</th>\n",
       "      <th>loss</th>\n",
       "      <th>val_accuracy</th>\n",
       "      <th>val_loss</th>\n",
       "    </tr>\n",
       "  </thead>\n",
       "  <tbody>\n",
       "    <tr>\n",
       "      <th>0</th>\n",
       "      <td>0</td>\n",
       "      <td>0.345973</td>\n",
       "      <td>1.333940</td>\n",
       "      <td>0.417867</td>\n",
       "      <td>1.288418</td>\n",
       "    </tr>\n",
       "    <tr>\n",
       "      <th>1</th>\n",
       "      <td>1</td>\n",
       "      <td>0.634653</td>\n",
       "      <td>1.013231</td>\n",
       "      <td>0.636888</td>\n",
       "      <td>0.961228</td>\n",
       "    </tr>\n",
       "    <tr>\n",
       "      <th>2</th>\n",
       "      <td>2</td>\n",
       "      <td>0.783283</td>\n",
       "      <td>0.596432</td>\n",
       "      <td>0.694524</td>\n",
       "      <td>0.782127</td>\n",
       "    </tr>\n",
       "    <tr>\n",
       "      <th>3</th>\n",
       "      <td>3</td>\n",
       "      <td>0.840576</td>\n",
       "      <td>0.425963</td>\n",
       "      <td>0.708934</td>\n",
       "      <td>0.781717</td>\n",
       "    </tr>\n",
       "    <tr>\n",
       "      <th>4</th>\n",
       "      <td>4</td>\n",
       "      <td>0.878218</td>\n",
       "      <td>0.337826</td>\n",
       "      <td>0.688761</td>\n",
       "      <td>0.813239</td>\n",
       "    </tr>\n",
       "    <tr>\n",
       "      <th>5</th>\n",
       "      <td>5</td>\n",
       "      <td>0.901190</td>\n",
       "      <td>0.275459</td>\n",
       "      <td>0.682997</td>\n",
       "      <td>0.860549</td>\n",
       "    </tr>\n",
       "    <tr>\n",
       "      <th>6</th>\n",
       "      <td>6</td>\n",
       "      <td>0.925823</td>\n",
       "      <td>0.223816</td>\n",
       "      <td>0.668588</td>\n",
       "      <td>0.914705</td>\n",
       "    </tr>\n",
       "    <tr>\n",
       "      <th>7</th>\n",
       "      <td>7</td>\n",
       "      <td>0.938555</td>\n",
       "      <td>0.189113</td>\n",
       "      <td>0.674352</td>\n",
       "      <td>0.939363</td>\n",
       "    </tr>\n",
       "    <tr>\n",
       "      <th>8</th>\n",
       "      <td>8</td>\n",
       "      <td>0.951564</td>\n",
       "      <td>0.155032</td>\n",
       "      <td>0.688761</td>\n",
       "      <td>1.011985</td>\n",
       "    </tr>\n",
       "    <tr>\n",
       "      <th>9</th>\n",
       "      <td>9</td>\n",
       "      <td>0.958760</td>\n",
       "      <td>0.141095</td>\n",
       "      <td>0.674352</td>\n",
       "      <td>1.049792</td>\n",
       "    </tr>\n",
       "    <tr>\n",
       "      <th>10</th>\n",
       "      <td>10</td>\n",
       "      <td>0.963742</td>\n",
       "      <td>0.121800</td>\n",
       "      <td>0.691643</td>\n",
       "      <td>1.130740</td>\n",
       "    </tr>\n",
       "    <tr>\n",
       "      <th>11</th>\n",
       "      <td>11</td>\n",
       "      <td>0.965679</td>\n",
       "      <td>0.112767</td>\n",
       "      <td>0.682997</td>\n",
       "      <td>1.125597</td>\n",
       "    </tr>\n",
       "    <tr>\n",
       "      <th>12</th>\n",
       "      <td>12</td>\n",
       "      <td>0.970938</td>\n",
       "      <td>0.100246</td>\n",
       "      <td>0.685879</td>\n",
       "      <td>1.161935</td>\n",
       "    </tr>\n",
       "    <tr>\n",
       "      <th>13</th>\n",
       "      <td>13</td>\n",
       "      <td>0.969001</td>\n",
       "      <td>0.094856</td>\n",
       "      <td>0.674352</td>\n",
       "      <td>1.189582</td>\n",
       "    </tr>\n",
       "    <tr>\n",
       "      <th>14</th>\n",
       "      <td>14</td>\n",
       "      <td>0.972599</td>\n",
       "      <td>0.093789</td>\n",
       "      <td>0.682997</td>\n",
       "      <td>1.206902</td>\n",
       "    </tr>\n",
       "    <tr>\n",
       "      <th>15</th>\n",
       "      <td>15</td>\n",
       "      <td>0.973983</td>\n",
       "      <td>0.083703</td>\n",
       "      <td>0.685879</td>\n",
       "      <td>1.294322</td>\n",
       "    </tr>\n",
       "    <tr>\n",
       "      <th>16</th>\n",
       "      <td>16</td>\n",
       "      <td>0.971769</td>\n",
       "      <td>0.081967</td>\n",
       "      <td>0.677233</td>\n",
       "      <td>1.368076</td>\n",
       "    </tr>\n",
       "    <tr>\n",
       "      <th>17</th>\n",
       "      <td>17</td>\n",
       "      <td>0.975090</td>\n",
       "      <td>0.076597</td>\n",
       "      <td>0.677233</td>\n",
       "      <td>1.370413</td>\n",
       "    </tr>\n",
       "    <tr>\n",
       "      <th>18</th>\n",
       "      <td>18</td>\n",
       "      <td>0.973706</td>\n",
       "      <td>0.070771</td>\n",
       "      <td>0.671470</td>\n",
       "      <td>1.352171</td>\n",
       "    </tr>\n",
       "    <tr>\n",
       "      <th>19</th>\n",
       "      <td>19</td>\n",
       "      <td>0.973983</td>\n",
       "      <td>0.070550</td>\n",
       "      <td>0.674352</td>\n",
       "      <td>1.393244</td>\n",
       "    </tr>\n",
       "    <tr>\n",
       "      <th>20</th>\n",
       "      <td>20</td>\n",
       "      <td>0.974260</td>\n",
       "      <td>0.067931</td>\n",
       "      <td>0.680115</td>\n",
       "      <td>1.424350</td>\n",
       "    </tr>\n",
       "    <tr>\n",
       "      <th>21</th>\n",
       "      <td>21</td>\n",
       "      <td>0.976751</td>\n",
       "      <td>0.066807</td>\n",
       "      <td>0.654179</td>\n",
       "      <td>1.476943</td>\n",
       "    </tr>\n",
       "    <tr>\n",
       "      <th>22</th>\n",
       "      <td>22</td>\n",
       "      <td>0.976474</td>\n",
       "      <td>0.067484</td>\n",
       "      <td>0.665706</td>\n",
       "      <td>1.492239</td>\n",
       "    </tr>\n",
       "    <tr>\n",
       "      <th>23</th>\n",
       "      <td>23</td>\n",
       "      <td>0.978688</td>\n",
       "      <td>0.063009</td>\n",
       "      <td>0.674352</td>\n",
       "      <td>1.499720</td>\n",
       "    </tr>\n",
       "    <tr>\n",
       "      <th>24</th>\n",
       "      <td>24</td>\n",
       "      <td>0.977581</td>\n",
       "      <td>0.059680</td>\n",
       "      <td>0.665706</td>\n",
       "      <td>1.551612</td>\n",
       "    </tr>\n",
       "  </tbody>\n",
       "</table>\n",
       "</div>"
      ],
      "text/plain": [
       "    epoch  accuracy      loss  val_accuracy  val_loss\n",
       "0       0  0.345973  1.333940      0.417867  1.288418\n",
       "1       1  0.634653  1.013231      0.636888  0.961228\n",
       "2       2  0.783283  0.596432      0.694524  0.782127\n",
       "3       3  0.840576  0.425963      0.708934  0.781717\n",
       "4       4  0.878218  0.337826      0.688761  0.813239\n",
       "5       5  0.901190  0.275459      0.682997  0.860549\n",
       "6       6  0.925823  0.223816      0.668588  0.914705\n",
       "7       7  0.938555  0.189113      0.674352  0.939363\n",
       "8       8  0.951564  0.155032      0.688761  1.011985\n",
       "9       9  0.958760  0.141095      0.674352  1.049792\n",
       "10     10  0.963742  0.121800      0.691643  1.130740\n",
       "11     11  0.965679  0.112767      0.682997  1.125597\n",
       "12     12  0.970938  0.100246      0.685879  1.161935\n",
       "13     13  0.969001  0.094856      0.674352  1.189582\n",
       "14     14  0.972599  0.093789      0.682997  1.206902\n",
       "15     15  0.973983  0.083703      0.685879  1.294322\n",
       "16     16  0.971769  0.081967      0.677233  1.368076\n",
       "17     17  0.975090  0.076597      0.677233  1.370413\n",
       "18     18  0.973706  0.070771      0.671470  1.352171\n",
       "19     19  0.973983  0.070550      0.674352  1.393244\n",
       "20     20  0.974260  0.067931      0.680115  1.424350\n",
       "21     21  0.976751  0.066807      0.654179  1.476943\n",
       "22     22  0.976474  0.067484      0.665706  1.492239\n",
       "23     23  0.978688  0.063009      0.674352  1.499720\n",
       "24     24  0.977581  0.059680      0.665706  1.551612"
      ]
     },
     "execution_count": 52,
     "metadata": {},
     "output_type": "execute_result"
    }
   ],
   "source": [
    "#Let's take a look at the training log\n",
    "training_log = pd.DataFrame()\n",
    "training_log = pd.read_csv(\"logs/training_log.csv\")\n",
    "training_log"
   ]
  },
  {
   "cell_type": "markdown",
   "metadata": {},
   "source": [
    "# Exercise 6"
   ]
  },
  {
   "cell_type": "code",
   "execution_count": 53,
   "metadata": {},
   "outputs": [
    {
     "data": {
      "image/png": "[encoded data removed]",
      "text/plain": [
       "<Figure size 1200x600 with 1 Axes>"
      ]
     },
     "metadata": {},
     "output_type": "display_data"
    },
    {
     "data": {
      "image/png": "[encoded data removed]",
      "text/plain": [
       "<Figure size 1200x600 with 1 Axes>"
      ]
     },
     "metadata": {},
     "output_type": "display_data"
    }
   ],
   "source": [
    "# Answer here\n",
    "\n",
    "import matplotlib.pyplot as plt\n",
    "# Plot accuracy\n",
    "plt.figure(figsize=(12, 6))\n",
    "plt.plot(training_log['epoch'], training_log['accuracy'], label='Train Accuracy')\n",
    "plt.plot(training_log['epoch'], training_log['val_accuracy'], label='Val Accuracy')\n",
    "plt.title('Train and Val Accuracy')\n",
    "plt.legend()\n",
    "plt.show()\n",
    "\n",
    "# Plot loss\n",
    "plt.figure(figsize=(12, 6))\n",
    "plt.plot(training_log['epoch'], training_log['loss'], label='Train Loss')\n",
    "plt.plot(training_log['epoch'], training_log['val_loss'], label='Val Loss')\n",
    "plt.title('Train and Val Loss')\n",
    "\n",
    "plt.legend()\n",
    "plt.show()"
   ]
  },
  {
   "cell_type": "markdown",
   "metadata": {},
   "source": [
    "# 7.Word2Vec"
   ]
  },
  {
   "cell_type": "code",
   "execution_count": 54,
   "metadata": {},
   "outputs": [
    {
     "data": {
      "text/html": [
       "<div>\n",
       "<style scoped>\n",
       "    .dataframe tbody tr th:only-of-type {\n",
       "        vertical-align: middle;\n",
       "    }\n",
       "\n",
       "    .dataframe tbody tr th {\n",
       "        vertical-align: top;\n",
       "    }\n",
       "\n",
       "    .dataframe thead th {\n",
       "        text-align: right;\n",
       "    }\n",
       "</style>\n",
       "<table border=\"1\" class=\"dataframe\">\n",
       "  <thead>\n",
       "    <tr style=\"text-align: right;\">\n",
       "      <th></th>\n",
       "      <th>id</th>\n",
       "      <th>text</th>\n",
       "      <th>text_tokenized</th>\n",
       "    </tr>\n",
       "  </thead>\n",
       "  <tbody>\n",
       "    <tr>\n",
       "      <th>2098</th>\n",
       "      <td>30094</td>\n",
       "      <td>@Jen_Lee @mostlymartha @edotwoods we just foun...</td>\n",
       "      <td>[@, Jen_Lee, @, mostlymartha, @, edotwoods, we...</td>\n",
       "    </tr>\n",
       "    <tr>\n",
       "      <th>2957</th>\n",
       "      <td>40130</td>\n",
       "      <td>When will the weeks full of Mondays end?? #dis...</td>\n",
       "      <td>[When, will, the, weeks, full, of, Mondays, en...</td>\n",
       "    </tr>\n",
       "    <tr>\n",
       "      <th>1102</th>\n",
       "      <td>20245</td>\n",
       "      <td>Tired of people pretending Islam isn't one of ...</td>\n",
       "      <td>[Tired, of, people, pretending, Islam, is, n't...</td>\n",
       "    </tr>\n",
       "    <tr>\n",
       "      <th>905</th>\n",
       "      <td>20048</td>\n",
       "      <td>i had a hard time falling a sleep and woke up ...</td>\n",
       "      <td>[i, had, a, hard, time, falling, a, sleep, and...</td>\n",
       "    </tr>\n",
       "    <tr>\n",
       "      <th>871</th>\n",
       "      <td>20014</td>\n",
       "      <td>Job interview in the afternoon #nervous #ek</td>\n",
       "      <td>[Job, interview, in, the, afternoon, #, nervou...</td>\n",
       "    </tr>\n",
       "  </tbody>\n",
       "</table>\n",
       "</div>"
      ],
      "text/plain": [
       "         id                                               text  \\\n",
       "2098  30094  @Jen_Lee @mostlymartha @edotwoods we just foun...   \n",
       "2957  40130  When will the weeks full of Mondays end?? #dis...   \n",
       "1102  20245  Tired of people pretending Islam isn't one of ...   \n",
       "905   20048  i had a hard time falling a sleep and woke up ...   \n",
       "871   20014        Job interview in the afternoon #nervous #ek   \n",
       "\n",
       "                                         text_tokenized  \n",
       "2098  [@, Jen_Lee, @, mostlymartha, @, edotwoods, we...  \n",
       "2957  [When, will, the, weeks, full, of, Mondays, en...  \n",
       "1102  [Tired, of, people, pretending, Islam, is, n't...  \n",
       "905   [i, had, a, hard, time, falling, a, sleep, and...  \n",
       "871   [Job, interview, in, the, afternoon, #, nervou...  "
      ]
     },
     "execution_count": 54,
     "metadata": {},
     "output_type": "execute_result"
    }
   ],
   "source": [
    "## check library\n",
    "import gensim\n",
    "\n",
    "## ignore warnings\n",
    "import warnings\n",
    "warnings.filterwarnings('ignore')\n",
    "\n",
    "# # if you want to see the training messages, you can use it\n",
    "# import logging\n",
    "# logging.basicConfig(format='%(asctime)s : %(levelname)s : %(message)s', level=logging.INFO)\n",
    "\n",
    "## the input type\n",
    "train_df['text_tokenized'] = train_df['text'].apply(lambda x: nltk.word_tokenize(x))\n",
    "train_df[['id', 'text', 'text_tokenized']].head()"
   ]
  },
  {
   "cell_type": "code",
   "execution_count": 55,
   "metadata": {},
   "outputs": [
    {
     "data": {
      "text/plain": [
       "array([list(['@', 'Jen_Lee', '@', 'mostlymartha', '@', 'edotwoods', 'we', 'just', 'found', 'thin', 'mints', 'in', 'a', 'freezer', 'clean', '.', 'i', 'could', \"n't\", 'be', 'more', 'elated', '.']),\n",
       "       list(['When', 'will', 'the', 'weeks', 'full', 'of', 'Mondays', 'end', '?', '?', '#', 'disheartened']),\n",
       "       list(['Tired', 'of', 'people', 'pretending', 'Islam', 'is', \"n't\", 'one', 'of', 'the', 'most', 'misogynistic', 'religions', ',', 'it', \"'s\", 'no', 'coincidence', 'Muslim', 'countries', 'are', 'terrible', 'for', 'women', '.'])],\n",
       "      dtype=object)"
      ]
     },
     "execution_count": 55,
     "metadata": {},
     "output_type": "execute_result"
    }
   ],
   "source": [
    "## create the training corpus\n",
    "training_corpus = train_df['text_tokenized'].values\n",
    "training_corpus[:3]"
   ]
  },
  {
   "cell_type": "code",
   "execution_count": 56,
   "metadata": {},
   "outputs": [],
   "source": [
    "from gensim.models import Word2Vec\n",
    "\n",
    "## setting\n",
    "vector_dim = 100\n",
    "window_size = 5\n",
    "min_count = 1\n",
    "training_epochs = 20\n",
    "\n",
    "## model\n",
    "word2vec_model = Word2Vec(sentences=training_corpus, \n",
    "                          vector_size=vector_dim, window=window_size, \n",
    "                          min_count=min_count, epochs=training_epochs)"
   ]
  },
  {
   "cell_type": "code",
   "execution_count": 57,
   "metadata": {},
   "outputs": [
    {
     "data": {
      "text/plain": [
       "array([ 0.6255772 ,  0.33118626, -0.14508353, -0.06231751, -0.26545203,\n",
       "       -1.1876785 ,  0.80591995,  1.031224  , -0.15519781, -0.56378233,\n",
       "       -0.44069648, -0.36055982, -0.6369553 ,  0.35828033, -0.26794878,\n",
       "       -0.6547379 ,  0.09060956, -0.5793187 ,  0.03359439, -1.0182006 ,\n",
       "        0.62534237,  0.98960626,  0.60346067, -0.07770739,  0.44555745,\n",
       "        0.18251953, -0.69470346,  0.55009484, -0.8229265 ,  0.24064367,\n",
       "        0.46377805, -0.29709673,  0.31116065, -0.69057125, -0.20574886,\n",
       "        0.3686532 ,  0.21369971, -0.21817037, -0.78385305, -0.39503637,\n",
       "       -0.08608182, -0.10210519, -0.5755507 ,  0.03634654,  0.7153466 ,\n",
       "       -0.06272119, -0.7583343 ,  0.44758072,  0.60192126,  0.7252719 ,\n",
       "        0.25420606, -0.65668803, -0.0511297 ,  0.01557973, -0.6792049 ,\n",
       "       -0.16900317,  0.5473512 ,  0.09288638,  0.34363794,  0.3846885 ,\n",
       "        0.08629899, -0.1538863 ,  0.947999  ,  0.18934602, -0.48914796,\n",
       "        0.7388984 ,  0.37914437,  0.55041015, -1.2457879 ,  0.39326307,\n",
       "        0.27086663,  0.5289931 ,  0.50583774, -0.6145429 ,  0.48949727,\n",
       "        0.02173784,  0.45413047,  0.17835172,  0.03243   ,  0.13404284,\n",
       "       -0.88778174, -0.30151835, -0.51657754,  0.71640337,  0.0949014 ,\n",
       "       -1.0310767 ,  0.6203295 ,  0.4048646 ,  0.3205001 ,  0.61367524,\n",
       "        0.93030536,  0.2901821 ,  0.57012826,  0.00445578,  0.8187312 ,\n",
       "        0.07634451,  0.49079847,  0.3036705 ,  0.3556974 , -0.13511111],\n",
       "      dtype=float32)"
      ]
     },
     "execution_count": 57,
     "metadata": {},
     "output_type": "execute_result"
    }
   ],
   "source": [
    "# get the corresponding vector of a word\n",
    "word_vec = word2vec_model.wv['happy']\n",
    "word_vec"
   ]
  },
  {
   "cell_type": "code",
   "execution_count": 58,
   "metadata": {},
   "outputs": [
    {
     "data": {
      "text/plain": [
       "[('blessed', 0.9183629155158997),\n",
       " ('Be', 0.9181938171386719),\n",
       " ('free', 0.9040911197662354),\n",
       " ('Sipping', 0.8991398811340332),\n",
       " ('help', 0.8985776305198669),\n",
       " ('suffer', 0.8974496126174927),\n",
       " ('plz', 0.8965185284614563),\n",
       " ('.\\\\nA', 0.8958934545516968),\n",
       " ('PUSSY\\\\nP', 0.8911178112030029),\n",
       " ('Online', 0.8907107710838318)]"
      ]
     },
     "execution_count": 58,
     "metadata": {},
     "output_type": "execute_result"
    }
   ],
   "source": [
    "# Get the most similar words\n",
    "word = 'happy'\n",
    "topn = 10\n",
    "word2vec_model.wv.most_similar(word, topn=topn)"
   ]
  },
  {
   "cell_type": "code",
   "execution_count": 59,
   "metadata": {},
   "outputs": [
    {
     "name": "stdout",
     "output_type": "stream",
     "text": [
      "load ok\n"
     ]
    },
    {
     "data": {
      "text/plain": [
       "[('glad', 0.7408890724182129),\n",
       " ('pleased', 0.6632170677185059),\n",
       " ('ecstatic', 0.6626912355422974),\n",
       " ('overjoyed', 0.6599286794662476),\n",
       " ('thrilled', 0.6514049172401428),\n",
       " ('satisfied', 0.6437949538230896),\n",
       " ('proud', 0.636042058467865),\n",
       " ('delighted', 0.6272379159927368),\n",
       " ('disappointed', 0.6269949674606323),\n",
       " ('excited', 0.6247665882110596)]"
      ]
     },
     "execution_count": 59,
     "metadata": {},
     "output_type": "execute_result"
    }
   ],
   "source": [
    "from gensim.models import KeyedVectors\n",
    "\n",
    "## Note: this model is very huge, this will take some time ...\n",
    "model_path = r\"C:\\Users\\Leanlab908-4\\OneDrive - NTHU\\桌面\\DMLab2\\GoogleNews-vectors-negative300.bin.gz\"\n",
    "w2v_google_model = KeyedVectors.load_word2vec_format(model_path, binary=True)\n",
    "print('load ok')\n",
    "\n",
    "w2v_google_model.most_similar('happy', topn=10)"
   ]
  },
  {
   "cell_type": "code",
   "execution_count": 60,
   "metadata": {},
   "outputs": [
    {
     "name": "stdout",
     "output_type": "stream",
     "text": [
      "[==================================================] 100.0% 104.8/104.8MB downloaded\n",
      "load ok\n"
     ]
    },
    {
     "data": {
      "text/plain": [
       "[('birthday', 0.9577818512916565),\n",
       " ('thank', 0.937666654586792),\n",
       " ('welcome', 0.93361496925354),\n",
       " ('love', 0.917618453502655),\n",
       " ('miss', 0.9164499640464783),\n",
       " ('hello', 0.9158352017402649),\n",
       " ('thanks', 0.9150084853172302),\n",
       " ('merry', 0.9053248167037964),\n",
       " ('bless', 0.902732253074646),\n",
       " ('wish', 0.9013165235519409)]"
      ]
     },
     "execution_count": 60,
     "metadata": {},
     "output_type": "execute_result"
    }
   ],
   "source": [
    "import gensim.downloader as api\n",
    "\n",
    "## If you see `SSL: CERTIFICATE_VERIFY_FAILED` error, use this:\n",
    "import ssl\n",
    "import urllib.request\n",
    "ssl._create_default_https_context = ssl._create_unverified_context\n",
    "\n",
    "glove_twitter_25_model = api.load(\"glove-twitter-25\")\n",
    "print('load ok')\n",
    "\n",
    "glove_twitter_25_model.most_similar('happy', topn=10)"
   ]
  },
  {
   "cell_type": "markdown",
   "metadata": {},
   "source": [
    "# Exercise 7"
   ]
  },
  {
   "cell_type": "markdown",
   "metadata": {},
   "source": [
    "Now, we have the word vectors, but our input data is a sequence of words (or say sentence). How can we utilize these \"word\" vectors to represent the sentence data and train our model?"
   ]
  },
  {
   "cell_type": "markdown",
   "metadata": {},
   "source": [
    "# Answer here\n",
    "1. We can use the technique of average pooling. Which means we can calculate the average of f all the word vectors. Then it will came up with a sentence vector that contains the average vector value and we can then change it back to the semantic meaning. \n",
    "2. We can use the technique of TF-IDF weighted average pooling. It is similar as the average pooling. But the score here is weighted by tfidf."
   ]
  },
  {
   "cell_type": "code",
   "execution_count": 66,
   "metadata": {},
   "outputs": [
    {
     "data": {
      "text/html": [
       "<div>\n",
       "<style scoped>\n",
       "    .dataframe tbody tr th:only-of-type {\n",
       "        vertical-align: middle;\n",
       "    }\n",
       "\n",
       "    .dataframe tbody tr th {\n",
       "        vertical-align: top;\n",
       "    }\n",
       "\n",
       "    .dataframe thead th {\n",
       "        text-align: right;\n",
       "    }\n",
       "</style>\n",
       "<table border=\"1\" class=\"dataframe\">\n",
       "  <thead>\n",
       "    <tr style=\"text-align: right;\">\n",
       "      <th></th>\n",
       "      <th>id</th>\n",
       "      <th>text</th>\n",
       "      <th>emotion</th>\n",
       "      <th>intensity</th>\n",
       "      <th>text_tokenized</th>\n",
       "    </tr>\n",
       "  </thead>\n",
       "  <tbody>\n",
       "    <tr>\n",
       "      <th>2098</th>\n",
       "      <td>30094</td>\n",
       "      <td>@Jen_Lee @mostlymartha @edotwoods we just foun...</td>\n",
       "      <td>joy</td>\n",
       "      <td>0.760</td>\n",
       "      <td>[@, Jen_Lee, @, mostlymartha, @, edotwoods, we...</td>\n",
       "    </tr>\n",
       "    <tr>\n",
       "      <th>2957</th>\n",
       "      <td>40130</td>\n",
       "      <td>When will the weeks full of Mondays end?? #dis...</td>\n",
       "      <td>sadness</td>\n",
       "      <td>0.688</td>\n",
       "      <td>[When, will, the, weeks, full, of, Mondays, en...</td>\n",
       "    </tr>\n",
       "    <tr>\n",
       "      <th>1102</th>\n",
       "      <td>20245</td>\n",
       "      <td>Tired of people pretending Islam isn't one of ...</td>\n",
       "      <td>fear</td>\n",
       "      <td>0.660</td>\n",
       "      <td>[Tired, of, people, pretending, Islam, is, n't...</td>\n",
       "    </tr>\n",
       "    <tr>\n",
       "      <th>905</th>\n",
       "      <td>20048</td>\n",
       "      <td>i had a hard time falling a sleep and woke up ...</td>\n",
       "      <td>fear</td>\n",
       "      <td>0.854</td>\n",
       "      <td>[i, had, a, hard, time, falling, a, sleep, and...</td>\n",
       "    </tr>\n",
       "    <tr>\n",
       "      <th>871</th>\n",
       "      <td>20014</td>\n",
       "      <td>Job interview in the afternoon #nervous #ek</td>\n",
       "      <td>fear</td>\n",
       "      <td>0.917</td>\n",
       "      <td>[Job, interview, in, the, afternoon, #, nervou...</td>\n",
       "    </tr>\n",
       "    <tr>\n",
       "      <th>...</th>\n",
       "      <td>...</td>\n",
       "      <td>...</td>\n",
       "      <td>...</td>\n",
       "      <td>...</td>\n",
       "      <td>...</td>\n",
       "    </tr>\n",
       "    <tr>\n",
       "      <th>3080</th>\n",
       "      <td>40253</td>\n",
       "      <td>@V_of_Europe @ckolacia MSM relentlessly saying...</td>\n",
       "      <td>sadness</td>\n",
       "      <td>0.604</td>\n",
       "      <td>[@, V_of_Europe, @, ckolacia, MSM, relentlessl...</td>\n",
       "    </tr>\n",
       "    <tr>\n",
       "      <th>3595</th>\n",
       "      <td>40768</td>\n",
       "      <td>Nice to see Balotelli back to his best, good p...</td>\n",
       "      <td>sadness</td>\n",
       "      <td>0.167</td>\n",
       "      <td>[Nice, to, see, Balotelli, back, to, his, best...</td>\n",
       "    </tr>\n",
       "    <tr>\n",
       "      <th>2257</th>\n",
       "      <td>30253</td>\n",
       "      <td>@_stfukohle it's ok champ you'll make it I'm c...</td>\n",
       "      <td>joy</td>\n",
       "      <td>0.600</td>\n",
       "      <td>[@, _stfukohle, it, 's, ok, champ, you, 'll, m...</td>\n",
       "    </tr>\n",
       "    <tr>\n",
       "      <th>3491</th>\n",
       "      <td>40664</td>\n",
       "      <td>@markoheight @Cassie_OB we sound like vampires...</td>\n",
       "      <td>sadness</td>\n",
       "      <td>0.292</td>\n",
       "      <td>[@, markoheight, @, Cassie_OB, we, sound, like...</td>\n",
       "    </tr>\n",
       "    <tr>\n",
       "      <th>1192</th>\n",
       "      <td>20335</td>\n",
       "      <td>Donnie trumpeter is a vapid and vacant vile vi...</td>\n",
       "      <td>fear</td>\n",
       "      <td>0.604</td>\n",
       "      <td>[Donnie, trumpeter, is, a, vapid, and, vacant,...</td>\n",
       "    </tr>\n",
       "  </tbody>\n",
       "</table>\n",
       "<p>3613 rows × 5 columns</p>\n",
       "</div>"
      ],
      "text/plain": [
       "         id                                               text  emotion  \\\n",
       "2098  30094  @Jen_Lee @mostlymartha @edotwoods we just foun...      joy   \n",
       "2957  40130  When will the weeks full of Mondays end?? #dis...  sadness   \n",
       "1102  20245  Tired of people pretending Islam isn't one of ...     fear   \n",
       "905   20048  i had a hard time falling a sleep and woke up ...     fear   \n",
       "871   20014        Job interview in the afternoon #nervous #ek     fear   \n",
       "...     ...                                                ...      ...   \n",
       "3080  40253  @V_of_Europe @ckolacia MSM relentlessly saying...  sadness   \n",
       "3595  40768  Nice to see Balotelli back to his best, good p...  sadness   \n",
       "2257  30253  @_stfukohle it's ok champ you'll make it I'm c...      joy   \n",
       "3491  40664  @markoheight @Cassie_OB we sound like vampires...  sadness   \n",
       "1192  20335  Donnie trumpeter is a vapid and vacant vile vi...     fear   \n",
       "\n",
       "      intensity                                     text_tokenized  \n",
       "2098      0.760  [@, Jen_Lee, @, mostlymartha, @, edotwoods, we...  \n",
       "2957      0.688  [When, will, the, weeks, full, of, Mondays, en...  \n",
       "1102      0.660  [Tired, of, people, pretending, Islam, is, n't...  \n",
       "905       0.854  [i, had, a, hard, time, falling, a, sleep, and...  \n",
       "871       0.917  [Job, interview, in, the, afternoon, #, nervou...  \n",
       "...         ...                                                ...  \n",
       "3080      0.604  [@, V_of_Europe, @, ckolacia, MSM, relentlessl...  \n",
       "3595      0.167  [Nice, to, see, Balotelli, back, to, his, best...  \n",
       "2257      0.600  [@, _stfukohle, it, 's, ok, champ, you, 'll, m...  \n",
       "3491      0.292  [@, markoheight, @, Cassie_OB, we, sound, like...  \n",
       "1192      0.604  [Donnie, trumpeter, is, a, vapid, and, vacant,...  \n",
       "\n",
       "[3613 rows x 5 columns]"
      ]
     },
     "execution_count": 66,
     "metadata": {},
     "output_type": "execute_result"
    }
   ],
   "source": [
    "train_df"
   ]
  },
  {
   "cell_type": "code",
   "execution_count": 69,
   "metadata": {},
   "outputs": [],
   "source": [
    "import numpy as np\n",
    "\n",
    "def average_word_vectors(tokens, word2vec_model):\n",
    "    vectors = [word2vec_model.wv[word] for word in tokens if word in word2vec_model.wv]\n",
    "    if not vectors:\n",
    "        return np.zeros(word2vec_model.vector_size)\n",
    "    return np.mean(vectors, axis=0)\n",
    "\n",
    "train_df['sentence_vector'] = train_df['text_tokenized'].apply(lambda x: average_word_vectors(x, word2vec_model))"
   ]
  },
  {
   "cell_type": "code",
   "execution_count": 70,
   "metadata": {},
   "outputs": [
    {
     "data": {
      "text/html": [
       "<div>\n",
       "<style scoped>\n",
       "    .dataframe tbody tr th:only-of-type {\n",
       "        vertical-align: middle;\n",
       "    }\n",
       "\n",
       "    .dataframe tbody tr th {\n",
       "        vertical-align: top;\n",
       "    }\n",
       "\n",
       "    .dataframe thead th {\n",
       "        text-align: right;\n",
       "    }\n",
       "</style>\n",
       "<table border=\"1\" class=\"dataframe\">\n",
       "  <thead>\n",
       "    <tr style=\"text-align: right;\">\n",
       "      <th></th>\n",
       "      <th>id</th>\n",
       "      <th>text</th>\n",
       "      <th>emotion</th>\n",
       "      <th>intensity</th>\n",
       "      <th>text_tokenized</th>\n",
       "      <th>sentence_vector</th>\n",
       "    </tr>\n",
       "  </thead>\n",
       "  <tbody>\n",
       "    <tr>\n",
       "      <th>2098</th>\n",
       "      <td>30094</td>\n",
       "      <td>@Jen_Lee @mostlymartha @edotwoods we just foun...</td>\n",
       "      <td>joy</td>\n",
       "      <td>0.760</td>\n",
       "      <td>[@, Jen_Lee, @, mostlymartha, @, edotwoods, we...</td>\n",
       "      <td>[0.05348327, 0.3039139, 0.12189055, -0.1710699...</td>\n",
       "    </tr>\n",
       "    <tr>\n",
       "      <th>2957</th>\n",
       "      <td>40130</td>\n",
       "      <td>When will the weeks full of Mondays end?? #dis...</td>\n",
       "      <td>sadness</td>\n",
       "      <td>0.688</td>\n",
       "      <td>[When, will, the, weeks, full, of, Mondays, en...</td>\n",
       "      <td>[0.15162703, 0.69049764, -0.076200865, 0.46598...</td>\n",
       "    </tr>\n",
       "    <tr>\n",
       "      <th>1102</th>\n",
       "      <td>20245</td>\n",
       "      <td>Tired of people pretending Islam isn't one of ...</td>\n",
       "      <td>fear</td>\n",
       "      <td>0.660</td>\n",
       "      <td>[Tired, of, people, pretending, Islam, is, n't...</td>\n",
       "      <td>[0.034455128, 0.6352924, 0.027912015, -0.01921...</td>\n",
       "    </tr>\n",
       "    <tr>\n",
       "      <th>905</th>\n",
       "      <td>20048</td>\n",
       "      <td>i had a hard time falling a sleep and woke up ...</td>\n",
       "      <td>fear</td>\n",
       "      <td>0.854</td>\n",
       "      <td>[i, had, a, hard, time, falling, a, sleep, and...</td>\n",
       "      <td>[0.12926076, 0.5484394, -0.0026181592, -0.2185...</td>\n",
       "    </tr>\n",
       "    <tr>\n",
       "      <th>871</th>\n",
       "      <td>20014</td>\n",
       "      <td>Job interview in the afternoon #nervous #ek</td>\n",
       "      <td>fear</td>\n",
       "      <td>0.917</td>\n",
       "      <td>[Job, interview, in, the, afternoon, #, nervou...</td>\n",
       "      <td>[-0.09017346, 0.2665288, -0.22144689, 0.494549...</td>\n",
       "    </tr>\n",
       "    <tr>\n",
       "      <th>...</th>\n",
       "      <td>...</td>\n",
       "      <td>...</td>\n",
       "      <td>...</td>\n",
       "      <td>...</td>\n",
       "      <td>...</td>\n",
       "      <td>...</td>\n",
       "    </tr>\n",
       "    <tr>\n",
       "      <th>3080</th>\n",
       "      <td>40253</td>\n",
       "      <td>@V_of_Europe @ckolacia MSM relentlessly saying...</td>\n",
       "      <td>sadness</td>\n",
       "      <td>0.604</td>\n",
       "      <td>[@, V_of_Europe, @, ckolacia, MSM, relentlessl...</td>\n",
       "      <td>[0.020418303, 0.01727962, -0.3209342, -0.13769...</td>\n",
       "    </tr>\n",
       "    <tr>\n",
       "      <th>3595</th>\n",
       "      <td>40768</td>\n",
       "      <td>Nice to see Balotelli back to his best, good p...</td>\n",
       "      <td>sadness</td>\n",
       "      <td>0.167</td>\n",
       "      <td>[Nice, to, see, Balotelli, back, to, his, best...</td>\n",
       "      <td>[0.14848681, 0.56286734, -0.054023616, -0.0558...</td>\n",
       "    </tr>\n",
       "    <tr>\n",
       "      <th>2257</th>\n",
       "      <td>30253</td>\n",
       "      <td>@_stfukohle it's ok champ you'll make it I'm c...</td>\n",
       "      <td>joy</td>\n",
       "      <td>0.600</td>\n",
       "      <td>[@, _stfukohle, it, 's, ok, champ, you, 'll, m...</td>\n",
       "      <td>[0.18036996, 0.55815107, 0.20158228, -0.353453...</td>\n",
       "    </tr>\n",
       "    <tr>\n",
       "      <th>3491</th>\n",
       "      <td>40664</td>\n",
       "      <td>@markoheight @Cassie_OB we sound like vampires...</td>\n",
       "      <td>sadness</td>\n",
       "      <td>0.292</td>\n",
       "      <td>[@, markoheight, @, Cassie_OB, we, sound, like...</td>\n",
       "      <td>[0.05782976, 0.33241573, -0.018170564, -0.1139...</td>\n",
       "    </tr>\n",
       "    <tr>\n",
       "      <th>1192</th>\n",
       "      <td>20335</td>\n",
       "      <td>Donnie trumpeter is a vapid and vacant vile vi...</td>\n",
       "      <td>fear</td>\n",
       "      <td>0.604</td>\n",
       "      <td>[Donnie, trumpeter, is, a, vapid, and, vacant,...</td>\n",
       "      <td>[0.011125352, 0.56207395, -0.08559991, 0.00609...</td>\n",
       "    </tr>\n",
       "  </tbody>\n",
       "</table>\n",
       "<p>3613 rows × 6 columns</p>\n",
       "</div>"
      ],
      "text/plain": [
       "         id                                               text  emotion  \\\n",
       "2098  30094  @Jen_Lee @mostlymartha @edotwoods we just foun...      joy   \n",
       "2957  40130  When will the weeks full of Mondays end?? #dis...  sadness   \n",
       "1102  20245  Tired of people pretending Islam isn't one of ...     fear   \n",
       "905   20048  i had a hard time falling a sleep and woke up ...     fear   \n",
       "871   20014        Job interview in the afternoon #nervous #ek     fear   \n",
       "...     ...                                                ...      ...   \n",
       "3080  40253  @V_of_Europe @ckolacia MSM relentlessly saying...  sadness   \n",
       "3595  40768  Nice to see Balotelli back to his best, good p...  sadness   \n",
       "2257  30253  @_stfukohle it's ok champ you'll make it I'm c...      joy   \n",
       "3491  40664  @markoheight @Cassie_OB we sound like vampires...  sadness   \n",
       "1192  20335  Donnie trumpeter is a vapid and vacant vile vi...     fear   \n",
       "\n",
       "      intensity                                     text_tokenized  \\\n",
       "2098      0.760  [@, Jen_Lee, @, mostlymartha, @, edotwoods, we...   \n",
       "2957      0.688  [When, will, the, weeks, full, of, Mondays, en...   \n",
       "1102      0.660  [Tired, of, people, pretending, Islam, is, n't...   \n",
       "905       0.854  [i, had, a, hard, time, falling, a, sleep, and...   \n",
       "871       0.917  [Job, interview, in, the, afternoon, #, nervou...   \n",
       "...         ...                                                ...   \n",
       "3080      0.604  [@, V_of_Europe, @, ckolacia, MSM, relentlessl...   \n",
       "3595      0.167  [Nice, to, see, Balotelli, back, to, his, best...   \n",
       "2257      0.600  [@, _stfukohle, it, 's, ok, champ, you, 'll, m...   \n",
       "3491      0.292  [@, markoheight, @, Cassie_OB, we, sound, like...   \n",
       "1192      0.604  [Donnie, trumpeter, is, a, vapid, and, vacant,...   \n",
       "\n",
       "                                        sentence_vector  \n",
       "2098  [0.05348327, 0.3039139, 0.12189055, -0.1710699...  \n",
       "2957  [0.15162703, 0.69049764, -0.076200865, 0.46598...  \n",
       "1102  [0.034455128, 0.6352924, 0.027912015, -0.01921...  \n",
       "905   [0.12926076, 0.5484394, -0.0026181592, -0.2185...  \n",
       "871   [-0.09017346, 0.2665288, -0.22144689, 0.494549...  \n",
       "...                                                 ...  \n",
       "3080  [0.020418303, 0.01727962, -0.3209342, -0.13769...  \n",
       "3595  [0.14848681, 0.56286734, -0.054023616, -0.0558...  \n",
       "2257  [0.18036996, 0.55815107, 0.20158228, -0.353453...  \n",
       "3491  [0.05782976, 0.33241573, -0.018170564, -0.1139...  \n",
       "1192  [0.011125352, 0.56207395, -0.08559991, 0.00609...  \n",
       "\n",
       "[3613 rows x 6 columns]"
      ]
     },
     "execution_count": 70,
     "metadata": {},
     "output_type": "execute_result"
    }
   ],
   "source": [
    "train_df"
   ]
  },
  {
   "cell_type": "code",
   "execution_count": 71,
   "metadata": {},
   "outputs": [
    {
     "name": "stdout",
     "output_type": "stream",
     "text": [
      "[ 0.05348327  0.3039139   0.12189055 -0.17106995  0.35475558 -0.6004575\n",
      "  0.32392845  1.1260849  -0.46730697 -0.2515706  -0.43089414 -1.1153265\n",
      "  0.05925414  0.44336095 -0.10742687 -0.31415457  0.0501207  -0.14080895\n",
      " -0.3451271  -0.91577464  0.1733278   0.09084175  0.48743933 -0.28481168\n",
      " -0.45479926  0.09051545 -0.24766    -0.23306443 -0.6538652  -0.25340274\n",
      "  0.60636026 -0.17811136  0.25383306 -0.555755   -0.16114783  0.42417365\n",
      "  0.06639459 -0.20863856 -0.13833149 -0.7193028   0.18416123 -0.8890289\n",
      " -0.14734533  0.19903682  0.63355017 -0.30610624 -0.29190627 -0.41073394\n",
      "  0.45132074  0.10778462  0.32248664 -0.38341597 -0.03424161 -0.324899\n",
      " -0.3628463   0.44121146  0.2995508  -0.23803768 -0.2960741   0.13880697\n",
      "  0.09817094  0.17814185  0.38378748  0.05912531 -0.38793656  0.6837369\n",
      " -0.06984036  0.43444106 -0.70414245  0.48846734 -0.36907813  0.32830945\n",
      "  0.69086975  0.09065893  0.7481686   0.10926409  0.27848625  0.17364453\n",
      " -0.16322853  0.2017736  -0.37910175  0.02785972 -0.44019613  0.3523596\n",
      " -0.31475046 -0.3040554   0.11374289  0.30073717  0.41405964  0.08800368\n",
      "  0.3304262   0.10283783  0.30254823 -0.16920081  0.77081144  0.45397815\n",
      "  0.26205024 -0.3590513  -0.15797979  0.00646657]\n"
     ]
    }
   ],
   "source": [
    "print(train_df['sentence_vector'].iloc[0])"
   ]
  },
  {
   "cell_type": "markdown",
   "metadata": {},
   "source": [
    "Since i have set the Word2Vec dimension as 100 dimension at first, which means each words will own a 100 dimension word vector.For example, if I have a six words sentence. There will be six 100-dimension vectors within one row after it converts to word vectors.  After I done with the sentence pooling, there shall be only one 100-dimension vector as shown above."
   ]
  },
  {
   "cell_type": "markdown",
   "metadata": {},
   "source": [
    "# Exercise 8"
   ]
  },
  {
   "cell_type": "code",
   "execution_count": 63,
   "metadata": {},
   "outputs": [
    {
     "name": "stdout",
     "output_type": "stream",
     "text": [
      "happy_words:  ['happy', 'glad', 'pleased', 'ecstatic', 'overjoyed', 'thrilled', 'satisfied', 'proud', 'delighted', 'disappointed', 'excited', 'happier', 'Said_Hirschbeck', 'elated', 'thankful', 'unhappy']\n",
      "angry_words:  ['angry', 'irate', 'enraged', 'indignant', 'incensed', 'annoyed', 'agitated', 'frustrated', 'furious', 'unhappy', 'outraged', 'livid', 'irritated', 'exasperated', 'angrier', 'Angry']\n",
      "sad_words:  ['sad', 'saddening', 'Sad', 'saddened', 'heartbreaking', 'disheartening', 'Meny_Friedman', 'parishioner_Pat_Patello', 'saddens_me', 'distressing', 'reminders_bobbing', 'Turkoman_Shiites', 'saddest', 'unfortunate', 'sorry', 'bittersweet']\n",
      "fear_words:  ['fear', 'fearful', 'fears', 'Fear', 'fearing', 'worry', 'dread', 'feared', 'anxiety', 'apprehension', 'afraid', 'worries', 'concern', 'distrust', 'worried', 'Fearful']\n",
      "\n",
      "target words: \n",
      "['happy', 'glad', 'pleased', 'ecstatic', 'overjoyed', 'thrilled', 'satisfied', 'proud', 'delighted', 'disappointed', 'excited', 'happier', 'Said_Hirschbeck', 'elated', 'thankful', 'unhappy', 'angry', 'irate', 'enraged', 'indignant', 'incensed', 'annoyed', 'agitated', 'frustrated', 'furious', 'unhappy', 'outraged', 'livid', 'irritated', 'exasperated', 'angrier', 'Angry', 'sad', 'saddening', 'Sad', 'saddened', 'heartbreaking', 'disheartening', 'Meny_Friedman', 'parishioner_Pat_Patello', 'saddens_me', 'distressing', 'reminders_bobbing', 'Turkoman_Shiites', 'saddest', 'unfortunate', 'sorry', 'bittersweet', 'fear', 'fearful', 'fears', 'Fear', 'fearing', 'worry', 'dread', 'feared', 'anxiety', 'apprehension', 'afraid', 'worries', 'concern', 'distrust', 'worried', 'Fearful']\n",
      "\n",
      "color list:\n",
      "['b', 'b', 'b', 'b', 'b', 'b', 'b', 'b', 'b', 'b', 'b', 'b', 'b', 'b', 'b', 'b', 'g', 'g', 'g', 'g', 'g', 'g', 'g', 'g', 'g', 'g', 'g', 'g', 'g', 'g', 'g', 'g', 'r', 'r', 'r', 'r', 'r', 'r', 'r', 'r', 'r', 'r', 'r', 'r', 'r', 'r', 'r', 'r', 'y', 'y', 'y', 'y', 'y', 'y', 'y', 'y', 'y', 'y', 'y', 'y', 'y', 'y', 'y', 'y']\n"
     ]
    }
   ],
   "source": [
    "# Answer here\n",
    "word_list = ['happy', 'angry', 'sad', 'fear']\n",
    "\n",
    "topn = 15\n",
    "happy_words = ['happy'] + [word_ for word_, sim_ in w2v_google_model.most_similar('happy', topn=topn)]\n",
    "angry_words = ['angry'] + [word_ for word_, sim_ in w2v_google_model.most_similar('angry', topn=topn)]        \n",
    "sad_words = ['sad'] + [word_ for word_, sim_ in w2v_google_model.most_similar('sad', topn=topn)]        \n",
    "fear_words = ['fear'] + [word_ for word_, sim_ in w2v_google_model.most_similar('fear', topn=topn)]        \n",
    "\n",
    "print('happy_words: ', happy_words)\n",
    "print('angry_words: ', angry_words)\n",
    "print('sad_words: ', sad_words)\n",
    "print('fear_words: ', fear_words)\n",
    "\n",
    "target_words = happy_words + angry_words + sad_words + fear_words\n",
    "print('\\ntarget words: ')\n",
    "print(target_words)\n",
    "\n",
    "print('\\ncolor list:')\n",
    "cn = topn + 1\n",
    "color = ['b'] * cn + ['g'] * cn + ['r'] * cn + ['y'] * cn\n",
    "print(color)"
   ]
  },
  {
   "cell_type": "code",
   "execution_count": 64,
   "metadata": {},
   "outputs": [
    {
     "data": {
      "image/png": "[encoded data removed]",
      "text/plain": [
       "<Figure size 862.5x862.5 with 1 Axes>"
      ]
     },
     "metadata": {},
     "output_type": "display_data"
    }
   ],
   "source": [
    "%matplotlib inline\n",
    "import matplotlib.pyplot as plt\n",
    "from sklearn.manifold import TSNE\n",
    "\n",
    "## w2v model\n",
    "model = w2v_google_model\n",
    "\n",
    "## prepare training word vectors\n",
    "size = 200\n",
    "target_size = len(target_words)\n",
    "all_word = list(model.index_to_key)\n",
    "word_train = target_words + all_word[:size]\n",
    "X_train = model[word_train]\n",
    "\n",
    "## t-SNE model\n",
    "tsne = TSNE(n_components=2, metric='cosine', random_state=28)\n",
    "\n",
    "## training\n",
    "X_tsne = tsne.fit_transform(X_train)\n",
    "\n",
    "## plot the result\n",
    "plt.figure(figsize=(7.5, 7.5), dpi=115)\n",
    "plt.scatter(X_tsne[:target_size, 0], X_tsne[:target_size, 1], c=color)\n",
    "for label, x, y in zip(target_words, X_tsne[:target_size, 0], X_tsne[:target_size, 1]):\n",
    "    plt.annotate(label, xy=(x,y), xytext=(0,0),  textcoords='offset points')\n",
    "plt.show()"
   ]
  },
  {
   "cell_type": "markdown",
   "metadata": {},
   "source": [
    "# Part 2."
   ]
  },
  {
   "cell_type": "markdown",
   "metadata": {},
   "source": [
    "Kaggle private scoreboard snapshot:\n",
    "\n",
    "[Snapshot](img/pic0.png)"
   ]
  },
  {
   "cell_type": "markdown",
   "metadata": {},
   "source": [
    "# Part 3."
   ]
  },
  {
   "cell_type": "markdown",
   "metadata": {},
   "source": [
    "# Data Preparation"
   ]
  },
  {
   "cell_type": "code",
   "execution_count": 72,
   "metadata": {},
   "outputs": [],
   "source": [
    "import pandas as pd\n",
    "import numpy as np\n",
    "import matplotlib.pyplot as plt\n",
    "%matplotlib inline\n",
    "import seaborn as sns\n",
    "from nltk.corpus import stopwords\n",
    "import regex as re\n",
    "from nltk.stem import WordNetLemmatizer\n",
    "import nltk"
   ]
  },
  {
   "cell_type": "code",
   "execution_count": 73,
   "metadata": {},
   "outputs": [],
   "source": [
    "import json\n",
    "\n",
    "# Load the JSON file as lines\n",
    "with open('tweets_DM.json', 'r') as file:\n",
    "    lines = file.readlines()\n",
    "\n",
    "# Remove trailing data or any additional content causing the issue\n",
    "cleaned_lines = [line.strip() for line in lines if line.strip()]\n",
    "\n",
    "# Join the cleaned lines back into a valid JSON string\n",
    "cleaned_json = '[' + ','.join(cleaned_lines) + ']'\n",
    "\n",
    "# Load the cleaned JSON string into a DataFrame\n",
    "df = pd.read_json(cleaned_json)"
   ]
  },
  {
   "cell_type": "code",
   "execution_count": 74,
   "metadata": {},
   "outputs": [
    {
     "name": "stdout",
     "output_type": "stream",
     "text": [
      "_score                                                      391\n",
      "_index                                           hashtag_tweets\n",
      "_source       {'tweet': {'hashtags': ['Snapchat'], 'tweet_id...\n",
      "_crawldate                                  2015-05-23 11:42:47\n",
      "_type                                                    tweets\n",
      "Name: 0, dtype: object\n"
     ]
    }
   ],
   "source": [
    "import pandas as pd\n",
    "\n",
    "first_row = df.iloc[0]\n",
    "print(first_row)"
   ]
  },
  {
   "cell_type": "code",
   "execution_count": 75,
   "metadata": {},
   "outputs": [
    {
     "name": "stdout",
     "output_type": "stream",
     "text": [
      "Key: tweet, Value: {'hashtags': ['Snapchat'], 'tweet_id': '0x376b20', 'text': 'People who post \"add me on #Snapchat\" must be dehydrated. Cuz man.... that\\'s <LH>'}\n"
     ]
    }
   ],
   "source": [
    "import pandas as pd\n",
    "\n",
    "# Assuming df is your DataFrame\n",
    "first_row = df.iloc[0]\n",
    "\n",
    "# Access the dictionary in the _source column directly\n",
    "source_dict = first_row['_source']\n",
    "\n",
    "# Iterate through the keys and values of the dictionary\n",
    "for key, value in source_dict.items():\n",
    "    print(f\"Key: {key}, Value: {value}\")"
   ]
  },
  {
   "cell_type": "code",
   "execution_count": 76,
   "metadata": {},
   "outputs": [
    {
     "name": "stdout",
     "output_type": "stream",
     "text": [
      "   _score          _index                                            _source  \\\n",
      "0     391  hashtag_tweets  {'tweet': {'hashtags': ['Snapchat'], 'tweet_id...   \n",
      "1     433  hashtag_tweets  {'tweet': {'hashtags': ['freepress', 'TrumpLeg...   \n",
      "2     232  hashtag_tweets  {'tweet': {'hashtags': ['bibleverse'], 'tweet_...   \n",
      "3     376  hashtag_tweets  {'tweet': {'hashtags': [], 'tweet_id': '0x1cd5...   \n",
      "4     989  hashtag_tweets  {'tweet': {'hashtags': [], 'tweet_id': '0x2de2...   \n",
      "\n",
      "            _crawldate   _type                 tweet.hashtags tweet.tweet_id  \\\n",
      "0  2015-05-23 11:42:47  tweets                     [Snapchat]       0x376b20   \n",
      "1  2016-01-28 04:52:09  tweets  [freepress, TrumpLegacy, CNN]       0x2d5350   \n",
      "2  2017-12-25 04:39:20  tweets                   [bibleverse]       0x28b412   \n",
      "3  2016-01-24 23:53:05  tweets                             []       0x1cd5b0   \n",
      "4  2016-01-08 17:18:59  tweets                             []       0x2de201   \n",
      "\n",
      "                                          tweet.text  \n",
      "0  People who post \"add me on #Snapchat\" must be ...  \n",
      "1  @brianklaas As we see, Trump is dangerous to #...  \n",
      "2  Confident of your obedience, I write to you, k...  \n",
      "3                Now ISSA is stalking Tasha 😂😂😂 <LH>  \n",
      "4  \"Trust is not the same as faith. A friend is s...  \n"
     ]
    }
   ],
   "source": [
    "import pandas as pd\n",
    "import json\n",
    "\n",
    "# Assuming your DataFrame is named 'df'\n",
    "\n",
    "# Use json_normalize to flatten the nested dictionary structure\n",
    "df_normalized = pd.json_normalize(df['_source'])\n",
    "\n",
    "# Concatenate the new columns to the original DataFrame\n",
    "df = pd.concat([df, df_normalized], axis=1)\n",
    "\n",
    "# Drop the original '_source' column if needed\n",
    "# df = df.drop('_source', axis=1)\n",
    "\n",
    "# Display the resulting DataFrame\n",
    "print(df.head())"
   ]
  },
  {
   "cell_type": "code",
   "execution_count": 77,
   "metadata": {},
   "outputs": [
    {
     "data": {
      "text/html": [
       "<div>\n",
       "<style scoped>\n",
       "    .dataframe tbody tr th:only-of-type {\n",
       "        vertical-align: middle;\n",
       "    }\n",
       "\n",
       "    .dataframe tbody tr th {\n",
       "        vertical-align: top;\n",
       "    }\n",
       "\n",
       "    .dataframe thead th {\n",
       "        text-align: right;\n",
       "    }\n",
       "</style>\n",
       "<table border=\"1\" class=\"dataframe\">\n",
       "  <thead>\n",
       "    <tr style=\"text-align: right;\">\n",
       "      <th></th>\n",
       "      <th>_score</th>\n",
       "      <th>_index</th>\n",
       "      <th>_source</th>\n",
       "      <th>_crawldate</th>\n",
       "      <th>_type</th>\n",
       "      <th>tweet.hashtags</th>\n",
       "      <th>tweet.tweet_id</th>\n",
       "      <th>tweet.text</th>\n",
       "    </tr>\n",
       "  </thead>\n",
       "  <tbody>\n",
       "    <tr>\n",
       "      <th>0</th>\n",
       "      <td>391</td>\n",
       "      <td>hashtag_tweets</td>\n",
       "      <td>{'tweet': {'hashtags': ['Snapchat'], 'tweet_id...</td>\n",
       "      <td>2015-05-23 11:42:47</td>\n",
       "      <td>tweets</td>\n",
       "      <td>[Snapchat]</td>\n",
       "      <td>0x376b20</td>\n",
       "      <td>People who post \"add me on #Snapchat\" must be ...</td>\n",
       "    </tr>\n",
       "    <tr>\n",
       "      <th>1</th>\n",
       "      <td>433</td>\n",
       "      <td>hashtag_tweets</td>\n",
       "      <td>{'tweet': {'hashtags': ['freepress', 'TrumpLeg...</td>\n",
       "      <td>2016-01-28 04:52:09</td>\n",
       "      <td>tweets</td>\n",
       "      <td>[freepress, TrumpLegacy, CNN]</td>\n",
       "      <td>0x2d5350</td>\n",
       "      <td>@brianklaas As we see, Trump is dangerous to #...</td>\n",
       "    </tr>\n",
       "    <tr>\n",
       "      <th>2</th>\n",
       "      <td>232</td>\n",
       "      <td>hashtag_tweets</td>\n",
       "      <td>{'tweet': {'hashtags': ['bibleverse'], 'tweet_...</td>\n",
       "      <td>2017-12-25 04:39:20</td>\n",
       "      <td>tweets</td>\n",
       "      <td>[bibleverse]</td>\n",
       "      <td>0x28b412</td>\n",
       "      <td>Confident of your obedience, I write to you, k...</td>\n",
       "    </tr>\n",
       "    <tr>\n",
       "      <th>3</th>\n",
       "      <td>376</td>\n",
       "      <td>hashtag_tweets</td>\n",
       "      <td>{'tweet': {'hashtags': [], 'tweet_id': '0x1cd5...</td>\n",
       "      <td>2016-01-24 23:53:05</td>\n",
       "      <td>tweets</td>\n",
       "      <td>[]</td>\n",
       "      <td>0x1cd5b0</td>\n",
       "      <td>Now ISSA is stalking Tasha 😂😂😂 &lt;LH&gt;</td>\n",
       "    </tr>\n",
       "    <tr>\n",
       "      <th>4</th>\n",
       "      <td>989</td>\n",
       "      <td>hashtag_tweets</td>\n",
       "      <td>{'tweet': {'hashtags': [], 'tweet_id': '0x2de2...</td>\n",
       "      <td>2016-01-08 17:18:59</td>\n",
       "      <td>tweets</td>\n",
       "      <td>[]</td>\n",
       "      <td>0x2de201</td>\n",
       "      <td>\"Trust is not the same as faith. A friend is s...</td>\n",
       "    </tr>\n",
       "    <tr>\n",
       "      <th>...</th>\n",
       "      <td>...</td>\n",
       "      <td>...</td>\n",
       "      <td>...</td>\n",
       "      <td>...</td>\n",
       "      <td>...</td>\n",
       "      <td>...</td>\n",
       "      <td>...</td>\n",
       "      <td>...</td>\n",
       "    </tr>\n",
       "    <tr>\n",
       "      <th>1867530</th>\n",
       "      <td>827</td>\n",
       "      <td>hashtag_tweets</td>\n",
       "      <td>{'tweet': {'hashtags': ['mixedfeeling', 'butim...</td>\n",
       "      <td>2015-05-12 12:51:52</td>\n",
       "      <td>tweets</td>\n",
       "      <td>[mixedfeeling, butimTHATperson]</td>\n",
       "      <td>0x316b80</td>\n",
       "      <td>When you buy the last 2 tickets remaining for ...</td>\n",
       "    </tr>\n",
       "    <tr>\n",
       "      <th>1867531</th>\n",
       "      <td>368</td>\n",
       "      <td>hashtag_tweets</td>\n",
       "      <td>{'tweet': {'hashtags': [], 'tweet_id': '0x29d0...</td>\n",
       "      <td>2017-10-02 17:54:04</td>\n",
       "      <td>tweets</td>\n",
       "      <td>[]</td>\n",
       "      <td>0x29d0cb</td>\n",
       "      <td>I swear all this hard work gone pay off one da...</td>\n",
       "    </tr>\n",
       "    <tr>\n",
       "      <th>1867532</th>\n",
       "      <td>498</td>\n",
       "      <td>hashtag_tweets</td>\n",
       "      <td>{'tweet': {'hashtags': [], 'tweet_id': '0x2a6a...</td>\n",
       "      <td>2016-10-10 11:04:32</td>\n",
       "      <td>tweets</td>\n",
       "      <td>[]</td>\n",
       "      <td>0x2a6a4f</td>\n",
       "      <td>@Parcel2Go no card left when I wasn't in so I ...</td>\n",
       "    </tr>\n",
       "    <tr>\n",
       "      <th>1867533</th>\n",
       "      <td>840</td>\n",
       "      <td>hashtag_tweets</td>\n",
       "      <td>{'tweet': {'hashtags': [], 'tweet_id': '0x24fa...</td>\n",
       "      <td>2016-09-02 14:25:06</td>\n",
       "      <td>tweets</td>\n",
       "      <td>[]</td>\n",
       "      <td>0x24faed</td>\n",
       "      <td>Ah, corporate life, where you can date &lt;LH&gt; us...</td>\n",
       "    </tr>\n",
       "    <tr>\n",
       "      <th>1867534</th>\n",
       "      <td>360</td>\n",
       "      <td>hashtag_tweets</td>\n",
       "      <td>{'tweet': {'hashtags': ['Sundayvibes'], 'tweet...</td>\n",
       "      <td>2016-11-16 01:40:07</td>\n",
       "      <td>tweets</td>\n",
       "      <td>[Sundayvibes]</td>\n",
       "      <td>0x34be8c</td>\n",
       "      <td>Blessed to be living #Sundayvibes &lt;LH&gt;</td>\n",
       "    </tr>\n",
       "  </tbody>\n",
       "</table>\n",
       "<p>1867535 rows × 8 columns</p>\n",
       "</div>"
      ],
      "text/plain": [
       "         _score          _index  \\\n",
       "0           391  hashtag_tweets   \n",
       "1           433  hashtag_tweets   \n",
       "2           232  hashtag_tweets   \n",
       "3           376  hashtag_tweets   \n",
       "4           989  hashtag_tweets   \n",
       "...         ...             ...   \n",
       "1867530     827  hashtag_tweets   \n",
       "1867531     368  hashtag_tweets   \n",
       "1867532     498  hashtag_tweets   \n",
       "1867533     840  hashtag_tweets   \n",
       "1867534     360  hashtag_tweets   \n",
       "\n",
       "                                                   _source  \\\n",
       "0        {'tweet': {'hashtags': ['Snapchat'], 'tweet_id...   \n",
       "1        {'tweet': {'hashtags': ['freepress', 'TrumpLeg...   \n",
       "2        {'tweet': {'hashtags': ['bibleverse'], 'tweet_...   \n",
       "3        {'tweet': {'hashtags': [], 'tweet_id': '0x1cd5...   \n",
       "4        {'tweet': {'hashtags': [], 'tweet_id': '0x2de2...   \n",
       "...                                                    ...   \n",
       "1867530  {'tweet': {'hashtags': ['mixedfeeling', 'butim...   \n",
       "1867531  {'tweet': {'hashtags': [], 'tweet_id': '0x29d0...   \n",
       "1867532  {'tweet': {'hashtags': [], 'tweet_id': '0x2a6a...   \n",
       "1867533  {'tweet': {'hashtags': [], 'tweet_id': '0x24fa...   \n",
       "1867534  {'tweet': {'hashtags': ['Sundayvibes'], 'tweet...   \n",
       "\n",
       "                  _crawldate   _type                   tweet.hashtags  \\\n",
       "0        2015-05-23 11:42:47  tweets                       [Snapchat]   \n",
       "1        2016-01-28 04:52:09  tweets    [freepress, TrumpLegacy, CNN]   \n",
       "2        2017-12-25 04:39:20  tweets                     [bibleverse]   \n",
       "3        2016-01-24 23:53:05  tweets                               []   \n",
       "4        2016-01-08 17:18:59  tweets                               []   \n",
       "...                      ...     ...                              ...   \n",
       "1867530  2015-05-12 12:51:52  tweets  [mixedfeeling, butimTHATperson]   \n",
       "1867531  2017-10-02 17:54:04  tweets                               []   \n",
       "1867532  2016-10-10 11:04:32  tweets                               []   \n",
       "1867533  2016-09-02 14:25:06  tweets                               []   \n",
       "1867534  2016-11-16 01:40:07  tweets                    [Sundayvibes]   \n",
       "\n",
       "        tweet.tweet_id                                         tweet.text  \n",
       "0             0x376b20  People who post \"add me on #Snapchat\" must be ...  \n",
       "1             0x2d5350  @brianklaas As we see, Trump is dangerous to #...  \n",
       "2             0x28b412  Confident of your obedience, I write to you, k...  \n",
       "3             0x1cd5b0                Now ISSA is stalking Tasha 😂😂😂 <LH>  \n",
       "4             0x2de201  \"Trust is not the same as faith. A friend is s...  \n",
       "...                ...                                                ...  \n",
       "1867530       0x316b80  When you buy the last 2 tickets remaining for ...  \n",
       "1867531       0x29d0cb  I swear all this hard work gone pay off one da...  \n",
       "1867532       0x2a6a4f  @Parcel2Go no card left when I wasn't in so I ...  \n",
       "1867533       0x24faed  Ah, corporate life, where you can date <LH> us...  \n",
       "1867534       0x34be8c             Blessed to be living #Sundayvibes <LH>  \n",
       "\n",
       "[1867535 rows x 8 columns]"
      ]
     },
     "execution_count": 77,
     "metadata": {},
     "output_type": "execute_result"
    }
   ],
   "source": [
    "df"
   ]
  },
  {
   "cell_type": "code",
   "execution_count": 80,
   "metadata": {},
   "outputs": [
    {
     "name": "stdout",
     "output_type": "stream",
     "text": [
      "         score          _index  \\\n",
      "0          391  hashtag_tweets   \n",
      "1          433  hashtag_tweets   \n",
      "2          232  hashtag_tweets   \n",
      "3          376  hashtag_tweets   \n",
      "4          989  hashtag_tweets   \n",
      "...        ...             ...   \n",
      "1867530    827  hashtag_tweets   \n",
      "1867531    368  hashtag_tweets   \n",
      "1867532    498  hashtag_tweets   \n",
      "1867533    840  hashtag_tweets   \n",
      "1867534    360  hashtag_tweets   \n",
      "\n",
      "                                                   _source  \\\n",
      "0        {'tweet': {'hashtags': ['Snapchat'], 'tweet_id...   \n",
      "1        {'tweet': {'hashtags': ['freepress', 'TrumpLeg...   \n",
      "2        {'tweet': {'hashtags': ['bibleverse'], 'tweet_...   \n",
      "3        {'tweet': {'hashtags': [], 'tweet_id': '0x1cd5...   \n",
      "4        {'tweet': {'hashtags': [], 'tweet_id': '0x2de2...   \n",
      "...                                                    ...   \n",
      "1867530  {'tweet': {'hashtags': ['mixedfeeling', 'butim...   \n",
      "1867531  {'tweet': {'hashtags': [], 'tweet_id': '0x29d0...   \n",
      "1867532  {'tweet': {'hashtags': [], 'tweet_id': '0x2a6a...   \n",
      "1867533  {'tweet': {'hashtags': [], 'tweet_id': '0x24fa...   \n",
      "1867534  {'tweet': {'hashtags': ['Sundayvibes'], 'tweet...   \n",
      "\n",
      "                  _crawldate   _type                   tweet.hashtags  \\\n",
      "0        2015-05-23 11:42:47  tweets                       [Snapchat]   \n",
      "1        2016-01-28 04:52:09  tweets    [freepress, TrumpLegacy, CNN]   \n",
      "2        2017-12-25 04:39:20  tweets                     [bibleverse]   \n",
      "3        2016-01-24 23:53:05  tweets                               []   \n",
      "4        2016-01-08 17:18:59  tweets                               []   \n",
      "...                      ...     ...                              ...   \n",
      "1867530  2015-05-12 12:51:52  tweets  [mixedfeeling, butimTHATperson]   \n",
      "1867531  2017-10-02 17:54:04  tweets                               []   \n",
      "1867532  2016-10-10 11:04:32  tweets                               []   \n",
      "1867533  2016-09-02 14:25:06  tweets                               []   \n",
      "1867534  2016-11-16 01:40:07  tweets                    [Sundayvibes]   \n",
      "\n",
      "         tweet_id                                               text  \n",
      "0        0x376b20  People who post \"add me on #Snapchat\" must be ...  \n",
      "1        0x2d5350  @brianklaas As we see, Trump is dangerous to #...  \n",
      "2        0x28b412  Confident of your obedience, I write to you, k...  \n",
      "3        0x1cd5b0                Now ISSA is stalking Tasha 😂😂😂 <LH>  \n",
      "4        0x2de201  \"Trust is not the same as faith. A friend is s...  \n",
      "...           ...                                                ...  \n",
      "1867530  0x316b80  When you buy the last 2 tickets remaining for ...  \n",
      "1867531  0x29d0cb  I swear all this hard work gone pay off one da...  \n",
      "1867532  0x2a6a4f  @Parcel2Go no card left when I wasn't in so I ...  \n",
      "1867533  0x24faed  Ah, corporate life, where you can date <LH> us...  \n",
      "1867534  0x34be8c             Blessed to be living #Sundayvibes <LH>  \n",
      "\n",
      "[1867535 rows x 8 columns]\n"
     ]
    }
   ],
   "source": [
    "import pandas as pd\n",
    "\n",
    "# 觀察提供emotion.csv以及_data_identification.csv，決定簡化名稱並重新命名 column\n",
    "df.rename(columns={'tweet.tweet_id': 'tweet_id', 'tweet.text': 'text','_score':'score'}, inplace=True)\n",
    "\n",
    "print(df)"
   ]
  },
  {
   "cell_type": "code",
   "execution_count": 81,
   "metadata": {},
   "outputs": [
    {
     "data": {
      "text/html": [
       "<div>\n",
       "<style scoped>\n",
       "    .dataframe tbody tr th:only-of-type {\n",
       "        vertical-align: middle;\n",
       "    }\n",
       "\n",
       "    .dataframe tbody tr th {\n",
       "        vertical-align: top;\n",
       "    }\n",
       "\n",
       "    .dataframe thead th {\n",
       "        text-align: right;\n",
       "    }\n",
       "</style>\n",
       "<table border=\"1\" class=\"dataframe\">\n",
       "  <thead>\n",
       "    <tr style=\"text-align: right;\">\n",
       "      <th></th>\n",
       "      <th>score</th>\n",
       "      <th>_index</th>\n",
       "      <th>_source</th>\n",
       "      <th>_crawldate</th>\n",
       "      <th>_type</th>\n",
       "      <th>tweet.hashtags</th>\n",
       "      <th>tweet_id</th>\n",
       "      <th>text</th>\n",
       "    </tr>\n",
       "  </thead>\n",
       "  <tbody>\n",
       "    <tr>\n",
       "      <th>0</th>\n",
       "      <td>391</td>\n",
       "      <td>hashtag_tweets</td>\n",
       "      <td>{'tweet': {'hashtags': ['Snapchat'], 'tweet_id...</td>\n",
       "      <td>2015-05-23 11:42:47</td>\n",
       "      <td>tweets</td>\n",
       "      <td>[Snapchat]</td>\n",
       "      <td>0x376b20</td>\n",
       "      <td>People who post \"add me on #Snapchat\" must be ...</td>\n",
       "    </tr>\n",
       "    <tr>\n",
       "      <th>1</th>\n",
       "      <td>433</td>\n",
       "      <td>hashtag_tweets</td>\n",
       "      <td>{'tweet': {'hashtags': ['freepress', 'TrumpLeg...</td>\n",
       "      <td>2016-01-28 04:52:09</td>\n",
       "      <td>tweets</td>\n",
       "      <td>[freepress, TrumpLegacy, CNN]</td>\n",
       "      <td>0x2d5350</td>\n",
       "      <td>@brianklaas As we see, Trump is dangerous to #...</td>\n",
       "    </tr>\n",
       "    <tr>\n",
       "      <th>2</th>\n",
       "      <td>232</td>\n",
       "      <td>hashtag_tweets</td>\n",
       "      <td>{'tweet': {'hashtags': ['bibleverse'], 'tweet_...</td>\n",
       "      <td>2017-12-25 04:39:20</td>\n",
       "      <td>tweets</td>\n",
       "      <td>[bibleverse]</td>\n",
       "      <td>0x28b412</td>\n",
       "      <td>Confident of your obedience, I write to you, k...</td>\n",
       "    </tr>\n",
       "    <tr>\n",
       "      <th>3</th>\n",
       "      <td>376</td>\n",
       "      <td>hashtag_tweets</td>\n",
       "      <td>{'tweet': {'hashtags': [], 'tweet_id': '0x1cd5...</td>\n",
       "      <td>2016-01-24 23:53:05</td>\n",
       "      <td>tweets</td>\n",
       "      <td>[]</td>\n",
       "      <td>0x1cd5b0</td>\n",
       "      <td>Now ISSA is stalking Tasha 😂😂😂 &lt;LH&gt;</td>\n",
       "    </tr>\n",
       "    <tr>\n",
       "      <th>4</th>\n",
       "      <td>989</td>\n",
       "      <td>hashtag_tweets</td>\n",
       "      <td>{'tweet': {'hashtags': [], 'tweet_id': '0x2de2...</td>\n",
       "      <td>2016-01-08 17:18:59</td>\n",
       "      <td>tweets</td>\n",
       "      <td>[]</td>\n",
       "      <td>0x2de201</td>\n",
       "      <td>\"Trust is not the same as faith. A friend is s...</td>\n",
       "    </tr>\n",
       "    <tr>\n",
       "      <th>...</th>\n",
       "      <td>...</td>\n",
       "      <td>...</td>\n",
       "      <td>...</td>\n",
       "      <td>...</td>\n",
       "      <td>...</td>\n",
       "      <td>...</td>\n",
       "      <td>...</td>\n",
       "      <td>...</td>\n",
       "    </tr>\n",
       "    <tr>\n",
       "      <th>1867530</th>\n",
       "      <td>827</td>\n",
       "      <td>hashtag_tweets</td>\n",
       "      <td>{'tweet': {'hashtags': ['mixedfeeling', 'butim...</td>\n",
       "      <td>2015-05-12 12:51:52</td>\n",
       "      <td>tweets</td>\n",
       "      <td>[mixedfeeling, butimTHATperson]</td>\n",
       "      <td>0x316b80</td>\n",
       "      <td>When you buy the last 2 tickets remaining for ...</td>\n",
       "    </tr>\n",
       "    <tr>\n",
       "      <th>1867531</th>\n",
       "      <td>368</td>\n",
       "      <td>hashtag_tweets</td>\n",
       "      <td>{'tweet': {'hashtags': [], 'tweet_id': '0x29d0...</td>\n",
       "      <td>2017-10-02 17:54:04</td>\n",
       "      <td>tweets</td>\n",
       "      <td>[]</td>\n",
       "      <td>0x29d0cb</td>\n",
       "      <td>I swear all this hard work gone pay off one da...</td>\n",
       "    </tr>\n",
       "    <tr>\n",
       "      <th>1867532</th>\n",
       "      <td>498</td>\n",
       "      <td>hashtag_tweets</td>\n",
       "      <td>{'tweet': {'hashtags': [], 'tweet_id': '0x2a6a...</td>\n",
       "      <td>2016-10-10 11:04:32</td>\n",
       "      <td>tweets</td>\n",
       "      <td>[]</td>\n",
       "      <td>0x2a6a4f</td>\n",
       "      <td>@Parcel2Go no card left when I wasn't in so I ...</td>\n",
       "    </tr>\n",
       "    <tr>\n",
       "      <th>1867533</th>\n",
       "      <td>840</td>\n",
       "      <td>hashtag_tweets</td>\n",
       "      <td>{'tweet': {'hashtags': [], 'tweet_id': '0x24fa...</td>\n",
       "      <td>2016-09-02 14:25:06</td>\n",
       "      <td>tweets</td>\n",
       "      <td>[]</td>\n",
       "      <td>0x24faed</td>\n",
       "      <td>Ah, corporate life, where you can date &lt;LH&gt; us...</td>\n",
       "    </tr>\n",
       "    <tr>\n",
       "      <th>1867534</th>\n",
       "      <td>360</td>\n",
       "      <td>hashtag_tweets</td>\n",
       "      <td>{'tweet': {'hashtags': ['Sundayvibes'], 'tweet...</td>\n",
       "      <td>2016-11-16 01:40:07</td>\n",
       "      <td>tweets</td>\n",
       "      <td>[Sundayvibes]</td>\n",
       "      <td>0x34be8c</td>\n",
       "      <td>Blessed to be living #Sundayvibes &lt;LH&gt;</td>\n",
       "    </tr>\n",
       "  </tbody>\n",
       "</table>\n",
       "<p>1867535 rows × 8 columns</p>\n",
       "</div>"
      ],
      "text/plain": [
       "         score          _index  \\\n",
       "0          391  hashtag_tweets   \n",
       "1          433  hashtag_tweets   \n",
       "2          232  hashtag_tweets   \n",
       "3          376  hashtag_tweets   \n",
       "4          989  hashtag_tweets   \n",
       "...        ...             ...   \n",
       "1867530    827  hashtag_tweets   \n",
       "1867531    368  hashtag_tweets   \n",
       "1867532    498  hashtag_tweets   \n",
       "1867533    840  hashtag_tweets   \n",
       "1867534    360  hashtag_tweets   \n",
       "\n",
       "                                                   _source  \\\n",
       "0        {'tweet': {'hashtags': ['Snapchat'], 'tweet_id...   \n",
       "1        {'tweet': {'hashtags': ['freepress', 'TrumpLeg...   \n",
       "2        {'tweet': {'hashtags': ['bibleverse'], 'tweet_...   \n",
       "3        {'tweet': {'hashtags': [], 'tweet_id': '0x1cd5...   \n",
       "4        {'tweet': {'hashtags': [], 'tweet_id': '0x2de2...   \n",
       "...                                                    ...   \n",
       "1867530  {'tweet': {'hashtags': ['mixedfeeling', 'butim...   \n",
       "1867531  {'tweet': {'hashtags': [], 'tweet_id': '0x29d0...   \n",
       "1867532  {'tweet': {'hashtags': [], 'tweet_id': '0x2a6a...   \n",
       "1867533  {'tweet': {'hashtags': [], 'tweet_id': '0x24fa...   \n",
       "1867534  {'tweet': {'hashtags': ['Sundayvibes'], 'tweet...   \n",
       "\n",
       "                  _crawldate   _type                   tweet.hashtags  \\\n",
       "0        2015-05-23 11:42:47  tweets                       [Snapchat]   \n",
       "1        2016-01-28 04:52:09  tweets    [freepress, TrumpLegacy, CNN]   \n",
       "2        2017-12-25 04:39:20  tweets                     [bibleverse]   \n",
       "3        2016-01-24 23:53:05  tweets                               []   \n",
       "4        2016-01-08 17:18:59  tweets                               []   \n",
       "...                      ...     ...                              ...   \n",
       "1867530  2015-05-12 12:51:52  tweets  [mixedfeeling, butimTHATperson]   \n",
       "1867531  2017-10-02 17:54:04  tweets                               []   \n",
       "1867532  2016-10-10 11:04:32  tweets                               []   \n",
       "1867533  2016-09-02 14:25:06  tweets                               []   \n",
       "1867534  2016-11-16 01:40:07  tweets                    [Sundayvibes]   \n",
       "\n",
       "         tweet_id                                               text  \n",
       "0        0x376b20  People who post \"add me on #Snapchat\" must be ...  \n",
       "1        0x2d5350  @brianklaas As we see, Trump is dangerous to #...  \n",
       "2        0x28b412  Confident of your obedience, I write to you, k...  \n",
       "3        0x1cd5b0                Now ISSA is stalking Tasha 😂😂😂 <LH>  \n",
       "4        0x2de201  \"Trust is not the same as faith. A friend is s...  \n",
       "...           ...                                                ...  \n",
       "1867530  0x316b80  When you buy the last 2 tickets remaining for ...  \n",
       "1867531  0x29d0cb  I swear all this hard work gone pay off one da...  \n",
       "1867532  0x2a6a4f  @Parcel2Go no card left when I wasn't in so I ...  \n",
       "1867533  0x24faed  Ah, corporate life, where you can date <LH> us...  \n",
       "1867534  0x34be8c             Blessed to be living #Sundayvibes <LH>  \n",
       "\n",
       "[1867535 rows x 8 columns]"
      ]
     },
     "execution_count": 81,
     "metadata": {},
     "output_type": "execute_result"
    }
   ],
   "source": [
    "df"
   ]
  },
  {
   "cell_type": "code",
   "execution_count": 82,
   "metadata": {},
   "outputs": [
    {
     "name": "stdout",
     "output_type": "stream",
     "text": [
      "         tweet_id  score                                               text\n",
      "0        0x376b20    391  People who post \"add me on #Snapchat\" must be ...\n",
      "1        0x2d5350    433  @brianklaas As we see, Trump is dangerous to #...\n",
      "2        0x28b412    232  Confident of your obedience, I write to you, k...\n",
      "3        0x1cd5b0    376                Now ISSA is stalking Tasha 😂😂😂 <LH>\n",
      "4        0x2de201    989  \"Trust is not the same as faith. A friend is s...\n",
      "...           ...    ...                                                ...\n",
      "1867530  0x316b80    827  When you buy the last 2 tickets remaining for ...\n",
      "1867531  0x29d0cb    368  I swear all this hard work gone pay off one da...\n",
      "1867532  0x2a6a4f    498  @Parcel2Go no card left when I wasn't in so I ...\n",
      "1867533  0x24faed    840  Ah, corporate life, where you can date <LH> us...\n",
      "1867534  0x34be8c    360             Blessed to be living #Sundayvibes <LH>\n",
      "\n",
      "[1867535 rows x 3 columns]\n"
     ]
    }
   ],
   "source": [
    "# 留下的column 為以下三個\n",
    "#原因如下:  1.__index內資料值完全一致 2. _source已將source 內資料整理出獨立column 3. _crawldate 主觀認定時間與text結果無關 4. _type欄位內容完全一致\n",
    "columns_to_keep = [\"tweet_id\", \"score\", \"text\"]\n",
    "df = df[columns_to_keep]\n",
    "\n",
    "# Display the DataFrame with selected columns\n",
    "print(df)"
   ]
  },
  {
   "cell_type": "code",
   "execution_count": 83,
   "metadata": {},
   "outputs": [
    {
     "name": "stdout",
     "output_type": "stream",
     "text": [
      "Emotion DataFrame:\n",
      "   tweet_id       emotion\n",
      "0  0x3140b1       sadness\n",
      "1  0x368b73       disgust\n",
      "2  0x296183  anticipation\n",
      "3  0x2bd6e1           joy\n",
      "4  0x2ee1dd  anticipation\n",
      "\n",
      "Data Identification DataFrame:\n",
      "   tweet_id identification\n",
      "0  0x28cc61           test\n",
      "1  0x29e452          train\n",
      "2  0x2b3819          train\n",
      "3  0x2db41f           test\n",
      "4  0x2a2acc          train\n"
     ]
    }
   ],
   "source": [
    "import pandas as pd\n",
    "\n",
    "#匯入兩資料集\n",
    "emotion_df = pd.read_csv('emotion.csv')\n",
    "\n",
    "\n",
    "data_identification_df = pd.read_csv('data_identification.csv')\n",
    "\n",
    "# 查看兩資料級的名稱\n",
    "print(\"Emotion DataFrame:\")\n",
    "print(emotion_df.head())\n",
    "\n",
    "print(\"\\nData Identification DataFrame:\")\n",
    "print(data_identification_df.head())"
   ]
  },
  {
   "cell_type": "code",
   "execution_count": 85,
   "metadata": {},
   "outputs": [
    {
     "data": {
      "text/html": [
       "<div>\n",
       "<style scoped>\n",
       "    .dataframe tbody tr th:only-of-type {\n",
       "        vertical-align: middle;\n",
       "    }\n",
       "\n",
       "    .dataframe tbody tr th {\n",
       "        vertical-align: top;\n",
       "    }\n",
       "\n",
       "    .dataframe thead th {\n",
       "        text-align: right;\n",
       "    }\n",
       "</style>\n",
       "<table border=\"1\" class=\"dataframe\">\n",
       "  <thead>\n",
       "    <tr style=\"text-align: right;\">\n",
       "      <th></th>\n",
       "      <th>tweet_id</th>\n",
       "      <th>identification</th>\n",
       "    </tr>\n",
       "  </thead>\n",
       "  <tbody>\n",
       "    <tr>\n",
       "      <th>0</th>\n",
       "      <td>0x28cc61</td>\n",
       "      <td>test</td>\n",
       "    </tr>\n",
       "    <tr>\n",
       "      <th>1</th>\n",
       "      <td>0x29e452</td>\n",
       "      <td>train</td>\n",
       "    </tr>\n",
       "    <tr>\n",
       "      <th>2</th>\n",
       "      <td>0x2b3819</td>\n",
       "      <td>train</td>\n",
       "    </tr>\n",
       "    <tr>\n",
       "      <th>3</th>\n",
       "      <td>0x2db41f</td>\n",
       "      <td>test</td>\n",
       "    </tr>\n",
       "    <tr>\n",
       "      <th>4</th>\n",
       "      <td>0x2a2acc</td>\n",
       "      <td>train</td>\n",
       "    </tr>\n",
       "    <tr>\n",
       "      <th>...</th>\n",
       "      <td>...</td>\n",
       "      <td>...</td>\n",
       "    </tr>\n",
       "    <tr>\n",
       "      <th>1867530</th>\n",
       "      <td>0x227e25</td>\n",
       "      <td>train</td>\n",
       "    </tr>\n",
       "    <tr>\n",
       "      <th>1867531</th>\n",
       "      <td>0x293813</td>\n",
       "      <td>train</td>\n",
       "    </tr>\n",
       "    <tr>\n",
       "      <th>1867532</th>\n",
       "      <td>0x1e1a7e</td>\n",
       "      <td>train</td>\n",
       "    </tr>\n",
       "    <tr>\n",
       "      <th>1867533</th>\n",
       "      <td>0x2156a5</td>\n",
       "      <td>train</td>\n",
       "    </tr>\n",
       "    <tr>\n",
       "      <th>1867534</th>\n",
       "      <td>0x2bb9d2</td>\n",
       "      <td>train</td>\n",
       "    </tr>\n",
       "  </tbody>\n",
       "</table>\n",
       "<p>1867535 rows × 2 columns</p>\n",
       "</div>"
      ],
      "text/plain": [
       "         tweet_id identification\n",
       "0        0x28cc61           test\n",
       "1        0x29e452          train\n",
       "2        0x2b3819          train\n",
       "3        0x2db41f           test\n",
       "4        0x2a2acc          train\n",
       "...           ...            ...\n",
       "1867530  0x227e25          train\n",
       "1867531  0x293813          train\n",
       "1867532  0x1e1a7e          train\n",
       "1867533  0x2156a5          train\n",
       "1867534  0x2bb9d2          train\n",
       "\n",
       "[1867535 rows x 2 columns]"
      ]
     },
     "execution_count": 85,
     "metadata": {},
     "output_type": "execute_result"
    }
   ],
   "source": [
    "data_identification_df"
   ]
  },
  {
   "cell_type": "code",
   "execution_count": 88,
   "metadata": {},
   "outputs": [
    {
     "name": "stdout",
     "output_type": "stream",
     "text": [
      "         tweet_id  score                                               text  \\\n",
      "0        0x376b20    391  People who post \"add me on #Snapchat\" must be ...   \n",
      "1        0x2d5350    433  @brianklaas As we see, Trump is dangerous to #...   \n",
      "2        0x28b412    232  Confident of your obedience, I write to you, k...   \n",
      "3        0x1cd5b0    376                Now ISSA is stalking Tasha 😂😂😂 <LH>   \n",
      "4        0x2de201    989  \"Trust is not the same as faith. A friend is s...   \n",
      "...           ...    ...                                                ...   \n",
      "1867530  0x316b80    827  When you buy the last 2 tickets remaining for ...   \n",
      "1867531  0x29d0cb    368  I swear all this hard work gone pay off one da...   \n",
      "1867532  0x2a6a4f    498  @Parcel2Go no card left when I wasn't in so I ...   \n",
      "1867533  0x24faed    840  Ah, corporate life, where you can date <LH> us...   \n",
      "1867534  0x34be8c    360             Blessed to be living #Sundayvibes <LH>   \n",
      "\n",
      "        identification  \n",
      "0                train  \n",
      "1                train  \n",
      "2                 test  \n",
      "3                train  \n",
      "4                 test  \n",
      "...                ...  \n",
      "1867530           test  \n",
      "1867531           test  \n",
      "1867532           test  \n",
      "1867533          train  \n",
      "1867534          train  \n",
      "\n",
      "[1867535 rows x 4 columns]\n"
     ]
    }
   ],
   "source": [
    "#將 data_identifiacation 依照 tweer_id 進行合併\n",
    "merged_df = pd.merge(df, data_identification_df, on='tweet_id', how='inner')\n",
    "\n",
    "print(merged_df)"
   ]
  },
  {
   "cell_type": "code",
   "execution_count": 92,
   "metadata": {},
   "outputs": [
    {
     "data": {
      "text/html": [
       "<div>\n",
       "<style scoped>\n",
       "    .dataframe tbody tr th:only-of-type {\n",
       "        vertical-align: middle;\n",
       "    }\n",
       "\n",
       "    .dataframe tbody tr th {\n",
       "        vertical-align: top;\n",
       "    }\n",
       "\n",
       "    .dataframe thead th {\n",
       "        text-align: right;\n",
       "    }\n",
       "</style>\n",
       "<table border=\"1\" class=\"dataframe\">\n",
       "  <thead>\n",
       "    <tr style=\"text-align: right;\">\n",
       "      <th></th>\n",
       "      <th>tweet_id</th>\n",
       "      <th>score</th>\n",
       "      <th>text</th>\n",
       "      <th>identification</th>\n",
       "      <th>emotion</th>\n",
       "    </tr>\n",
       "  </thead>\n",
       "  <tbody>\n",
       "    <tr>\n",
       "      <th>0</th>\n",
       "      <td>0x376b20</td>\n",
       "      <td>391</td>\n",
       "      <td>People who post \"add me on #Snapchat\" must be ...</td>\n",
       "      <td>train</td>\n",
       "      <td>anticipation</td>\n",
       "    </tr>\n",
       "    <tr>\n",
       "      <th>1</th>\n",
       "      <td>0x2d5350</td>\n",
       "      <td>433</td>\n",
       "      <td>@brianklaas As we see, Trump is dangerous to #...</td>\n",
       "      <td>train</td>\n",
       "      <td>sadness</td>\n",
       "    </tr>\n",
       "    <tr>\n",
       "      <th>2</th>\n",
       "      <td>0x1cd5b0</td>\n",
       "      <td>376</td>\n",
       "      <td>Now ISSA is stalking Tasha 😂😂😂 &lt;LH&gt;</td>\n",
       "      <td>train</td>\n",
       "      <td>fear</td>\n",
       "    </tr>\n",
       "    <tr>\n",
       "      <th>3</th>\n",
       "      <td>0x1d755c</td>\n",
       "      <td>120</td>\n",
       "      <td>@RISKshow @TheKevinAllison Thx for the BEST TI...</td>\n",
       "      <td>train</td>\n",
       "      <td>joy</td>\n",
       "    </tr>\n",
       "    <tr>\n",
       "      <th>4</th>\n",
       "      <td>0x2c91a8</td>\n",
       "      <td>1021</td>\n",
       "      <td>Still waiting on those supplies Liscus. &lt;LH&gt;</td>\n",
       "      <td>train</td>\n",
       "      <td>anticipation</td>\n",
       "    </tr>\n",
       "    <tr>\n",
       "      <th>...</th>\n",
       "      <td>...</td>\n",
       "      <td>...</td>\n",
       "      <td>...</td>\n",
       "      <td>...</td>\n",
       "      <td>...</td>\n",
       "    </tr>\n",
       "    <tr>\n",
       "      <th>1455558</th>\n",
       "      <td>0x321566</td>\n",
       "      <td>94</td>\n",
       "      <td>I'm SO HAPPY!!! #NoWonder the name of this sho...</td>\n",
       "      <td>train</td>\n",
       "      <td>joy</td>\n",
       "    </tr>\n",
       "    <tr>\n",
       "      <th>1455559</th>\n",
       "      <td>0x38959e</td>\n",
       "      <td>627</td>\n",
       "      <td>In every circumtance I'd like to be thankful t...</td>\n",
       "      <td>train</td>\n",
       "      <td>joy</td>\n",
       "    </tr>\n",
       "    <tr>\n",
       "      <th>1455560</th>\n",
       "      <td>0x2cbca6</td>\n",
       "      <td>274</td>\n",
       "      <td>there's currently two girls walking around the...</td>\n",
       "      <td>train</td>\n",
       "      <td>joy</td>\n",
       "    </tr>\n",
       "    <tr>\n",
       "      <th>1455561</th>\n",
       "      <td>0x24faed</td>\n",
       "      <td>840</td>\n",
       "      <td>Ah, corporate life, where you can date &lt;LH&gt; us...</td>\n",
       "      <td>train</td>\n",
       "      <td>joy</td>\n",
       "    </tr>\n",
       "    <tr>\n",
       "      <th>1455562</th>\n",
       "      <td>0x34be8c</td>\n",
       "      <td>360</td>\n",
       "      <td>Blessed to be living #Sundayvibes &lt;LH&gt;</td>\n",
       "      <td>train</td>\n",
       "      <td>joy</td>\n",
       "    </tr>\n",
       "  </tbody>\n",
       "</table>\n",
       "<p>1455563 rows × 5 columns</p>\n",
       "</div>"
      ],
      "text/plain": [
       "         tweet_id  score                                               text  \\\n",
       "0        0x376b20    391  People who post \"add me on #Snapchat\" must be ...   \n",
       "1        0x2d5350    433  @brianklaas As we see, Trump is dangerous to #...   \n",
       "2        0x1cd5b0    376                Now ISSA is stalking Tasha 😂😂😂 <LH>   \n",
       "3        0x1d755c    120  @RISKshow @TheKevinAllison Thx for the BEST TI...   \n",
       "4        0x2c91a8   1021       Still waiting on those supplies Liscus. <LH>   \n",
       "...           ...    ...                                                ...   \n",
       "1455558  0x321566     94  I'm SO HAPPY!!! #NoWonder the name of this sho...   \n",
       "1455559  0x38959e    627  In every circumtance I'd like to be thankful t...   \n",
       "1455560  0x2cbca6    274  there's currently two girls walking around the...   \n",
       "1455561  0x24faed    840  Ah, corporate life, where you can date <LH> us...   \n",
       "1455562  0x34be8c    360             Blessed to be living #Sundayvibes <LH>   \n",
       "\n",
       "        identification       emotion  \n",
       "0                train  anticipation  \n",
       "1                train       sadness  \n",
       "2                train          fear  \n",
       "3                train           joy  \n",
       "4                train  anticipation  \n",
       "...                ...           ...  \n",
       "1455558          train           joy  \n",
       "1455559          train           joy  \n",
       "1455560          train           joy  \n",
       "1455561          train           joy  \n",
       "1455562          train           joy  \n",
       "\n",
       "[1455563 rows x 5 columns]"
      ]
     },
     "execution_count": 92,
     "metadata": {},
     "output_type": "execute_result"
    }
   ],
   "source": [
    "#將 emotion 依照 tweer_id 進行合併\n",
    "df_all = pd.merge(merged_df, emotion_df, on='tweet_id', how='inner')\n",
    "\n",
    "df_all"
   ]
  },
  {
   "cell_type": "code",
   "execution_count": 93,
   "metadata": {},
   "outputs": [],
   "source": [
    "#將整理好 dataframe 儲存為 csv\n",
    "path = r'C:\\Users\\Leanlab908-4\\OneDrive - NTHU\\桌面\\DMLab2\\DM2023-Lab2-Master\\Homework\\df_all.csv'\n",
    "df_all1.to_csv(path, index=False)"
   ]
  },
  {
   "cell_type": "markdown",
   "metadata": {},
   "source": [
    "# Data Preprocessing"
   ]
  },
  {
   "cell_type": "markdown",
   "metadata": {},
   "source": [
    "前處理部分主要針對 \"text\" 欄位進行處理，首先先將在\"text\" 中無意義字移除，無意義包括標點符號、特殊字元 (@)以及在stopword中有被列舉的字。後將此欄位進行 lemmatize 將字回歸原始型態，也讓各欄位字元有一致性。最後採用不同 NLP 手法進行嘗試。1. Word2Vec 使用google pre train model，也使用 average pooling將 word vectors轉換成 sentence vector 2. TFIDF 分別使用前17000、20000以及23000重要的 max feature 來建構 tfidf，可以發現 20000的表現最好，於是最終選用。"
   ]
  },
  {
   "cell_type": "code",
   "execution_count": 94,
   "metadata": {},
   "outputs": [],
   "source": [
    "#讀取資料\n",
    "df=pd.read_csv(r'C:\\Users\\Leanlab908-4\\OneDrive - NTHU\\桌面\\DMLab2\\DM2023-Lab2-Master\\Homework\\df_all.csv')\n"
   ]
  },
  {
   "cell_type": "code",
   "execution_count": 95,
   "metadata": {},
   "outputs": [
    {
     "name": "stderr",
     "output_type": "stream",
     "text": [
      "[nltk_data] Downloading package stopwords to\n",
      "[nltk_data]     C:\\Users\\Leanlab908-4\\AppData\\Roaming\\nltk_data...\n",
      "[nltk_data]   Package stopwords is already up-to-date!\n",
      "[nltk_data] Downloading package punkt to\n",
      "[nltk_data]     C:\\Users\\Leanlab908-4\\AppData\\Roaming\\nltk_data...\n",
      "[nltk_data]   Package punkt is already up-to-date!\n"
     ]
    },
    {
     "name": "stdout",
     "output_type": "stream",
     "text": [
      "   Unnamed: 0  tweet_id                                               text  \\\n",
      "0           0  0x376b20  People post add Snapchat must dehydrated Cuz m...   \n",
      "1           1  0x2d5350  brianklaas see Trump dangerous freepress aroun...   \n",
      "2           2  0x28b412  Confident obedience write knowing even ask Phi...   \n",
      "3           3  0x1cd5b0                            ISSA stalking Tasha 😂😂😂   \n",
      "4           4  0x2de201  Trust faith friend someone trust Putting faith...   \n",
      "\n",
      "   score identification       emotion  \n",
      "0    391          train  anticipation  \n",
      "1    433          train       sadness  \n",
      "2    232           test           NaN  \n",
      "3    376          train          fear  \n",
      "4    989           test           NaN  \n"
     ]
    }
   ],
   "source": [
    "#移除標點符號、stopwords and 將字變回原形\n",
    "import pandas as pd\n",
    "import nltk\n",
    "from nltk.corpus import stopwords\n",
    "from nltk.tokenize import word_tokenize\n",
    "import string\n",
    "\n",
    "# Download NLTK resources\n",
    "nltk.download('stopwords')\n",
    "nltk.download('punkt')\n",
    "\n",
    "# Load your dataframe (assuming it's named df)\n",
    "# df = pd.read_csv('your_file.csv')\n",
    "\n",
    "# Function to remove punctuation and stopwords\n",
    "def preprocess_text(text):\n",
    "    # Remove <LH> and @\n",
    "    text = text.replace('<LH>', '').replace('@', '')\n",
    "\n",
    "    # Remove punctuation\n",
    "    translator = str.maketrans('', '', string.punctuation)\n",
    "    text = text.translate(translator)\n",
    "\n",
    "    # Tokenize and remove stopwords\n",
    "    stop_words = set(stopwords.words('english'))\n",
    "    tokens = word_tokenize(text)\n",
    "    filtered_text = [word for word in tokens if word.lower() not in stop_words]\n",
    "\n",
    "    return ' '.join(filtered_text)\n",
    "\n",
    "# Apply the preprocessing function to the 'text' column\n",
    "df['text'] = df['text'].apply(preprocess_text)\n",
    "\n",
    "# Display the updated dataframe\n",
    "print(df.head())"
   ]
  },
  {
   "cell_type": "code",
   "execution_count": 96,
   "metadata": {},
   "outputs": [
    {
     "name": "stdout",
     "output_type": "stream",
     "text": [
      "Unnamed: 0             0\n",
      "tweet_id               0\n",
      "text                   0\n",
      "score                  0\n",
      "identification         0\n",
      "emotion           411972\n",
      "dtype: int64\n"
     ]
    }
   ],
   "source": [
    "#查看移除完無意義字元是否有NA值需要處理\n",
    "na_count = df.isna().sum()\n",
    "\n",
    "# Print the result\n",
    "print(na_count)"
   ]
  },
  {
   "cell_type": "code",
   "execution_count": 97,
   "metadata": {},
   "outputs": [
    {
     "name": "stderr",
     "output_type": "stream",
     "text": [
      "[nltk_data] Downloading package punkt to\n",
      "[nltk_data]     C:\\Users\\Leanlab908-4\\AppData\\Roaming\\nltk_data...\n",
      "[nltk_data]   Package punkt is already up-to-date!\n",
      "[nltk_data] Downloading package wordnet to\n",
      "[nltk_data]     C:\\Users\\Leanlab908-4\\AppData\\Roaming\\nltk_data...\n",
      "[nltk_data]   Package wordnet is already up-to-date!\n"
     ]
    },
    {
     "name": "stdout",
     "output_type": "stream",
     "text": [
      "         Unnamed: 0  tweet_id  \\\n",
      "0                 0  0x376b20   \n",
      "1                 1  0x2d5350   \n",
      "2                 2  0x28b412   \n",
      "3                 3  0x1cd5b0   \n",
      "4                 4  0x2de201   \n",
      "...             ...       ...   \n",
      "1867530     1867530  0x316b80   \n",
      "1867531     1867531  0x29d0cb   \n",
      "1867532     1867532  0x2a6a4f   \n",
      "1867533     1867533  0x24faed   \n",
      "1867534     1867534  0x34be8c   \n",
      "\n",
      "                                                      text  score  \\\n",
      "0        People post add Snapchat must dehydrated Cuz m...    391   \n",
      "1        brianklaas see Trump dangerous freepress aroun...    433   \n",
      "2        Confident obedience write knowing even ask Phi...    232   \n",
      "3                                  ISSA stalking Tasha 😂😂😂    376   \n",
      "4        Trust faith friend someone trust Putting faith...    989   \n",
      "...                                                    ...    ...   \n",
      "1867530  buy last 2 tickets remaining show sell mixedfe...    827   \n",
      "1867531                swear hard work gone pay one day😈💰💸    368   \n",
      "1867532          Parcel2Go card left wasnt idea get parcel    498   \n",
      "1867533  Ah corporate life date using relative anachron...    840   \n",
      "1867534                         Blessed living Sundayvibes    360   \n",
      "\n",
      "        identification       emotion  \\\n",
      "0                train  anticipation   \n",
      "1                train       sadness   \n",
      "2                 test           NaN   \n",
      "3                train          fear   \n",
      "4                 test           NaN   \n",
      "...                ...           ...   \n",
      "1867530           test           NaN   \n",
      "1867531           test           NaN   \n",
      "1867532           test           NaN   \n",
      "1867533          train           joy   \n",
      "1867534          train           joy   \n",
      "\n",
      "                                       lemmatized_sentence  \n",
      "0        People post add Snapchat must dehydrated Cuz m...  \n",
      "1        brianklaas see Trump dangerous freepress aroun...  \n",
      "2        Confident obedience write knowing even ask Phi...  \n",
      "3                                  ISSA stalking Tasha 😂😂😂  \n",
      "4        Trust faith friend someone trust Putting faith...  \n",
      "...                                                    ...  \n",
      "1867530  buy last 2 ticket remaining show sell mixedfee...  \n",
      "1867531                swear hard work gone pay one day😈💰💸  \n",
      "1867532          Parcel2Go card left wasnt idea get parcel  \n",
      "1867533  Ah corporate life date using relative anachron...  \n",
      "1867534                         Blessed living Sundayvibes  \n",
      "\n",
      "[1867535 rows x 7 columns]\n"
     ]
    }
   ],
   "source": [
    "#字回歸原始型態\n",
    "import pandas as pd\n",
    "from nltk.stem import WordNetLemmatizer\n",
    "from nltk.tokenize import word_tokenize\n",
    "import nltk\n",
    "nltk.download('punkt')\n",
    "nltk.download('wordnet')\n",
    "\n",
    "\n",
    "\n",
    "#  lemmatize a sentence\n",
    "def lemmatize_sentence(sentence):\n",
    "    lemmatizer = WordNetLemmatizer()\n",
    "    tokens = word_tokenize(sentence)\n",
    "    lemmatized_tokens = [lemmatizer.lemmatize(token) for token in tokens]\n",
    "    return ' '.join(lemmatized_tokens)\n",
    "\n",
    "# Apply lemmatization to the 'sentence' column\n",
    "df['lemmatized_sentence'] = df['text'].apply(lemmatize_sentence)\n",
    "\n",
    "# Display the DataFrame\n",
    "print(df)"
   ]
  },
  {
   "cell_type": "code",
   "execution_count": 98,
   "metadata": {},
   "outputs": [],
   "source": [
    "# Save\n",
    "df.to_csv(r'C:\\Users\\Leanlab908-4\\OneDrive - NTHU\\桌面\\DMLab2\\DM2023-Lab2-Master\\Homework\\df_lemmatize1.csv')"
   ]
  },
  {
   "cell_type": "code",
   "execution_count": 99,
   "metadata": {},
   "outputs": [],
   "source": [
    "#將資料依據identification切分為訓練及與測試集\n",
    "\n",
    "df_train = df[df['identification']=='train']\n",
    "df_test = df[df['identification']=='test']"
   ]
  },
  {
   "cell_type": "code",
   "execution_count": null,
   "metadata": {},
   "outputs": [],
   "source": [
    "#Word2Vec 使用google pre train model，也使用 average pooling將 word vectors轉換成 sentence vector \n",
    "#from gensim.models import KeyedVectors\n",
    "#import pandas as pd\n",
    "#model_path = r\"C:\\Users\\Leanlab908-4\\OneDrive - NTHU\\桌面\\DMLab2\\GoogleNews-vectors-negative300.bin.gz\"\n",
    "#w2v_google_model = KeyedVectors.load_word2vec_format(model_path, binary=True)\n",
    "#print('Model loaded successfully')"
   ]
  },
  {
   "cell_type": "code",
   "execution_count": null,
   "metadata": {},
   "outputs": [],
   "source": [
    "# 化成sentence vector\n",
    "#def get_vector(tokens):\n",
    "#    vector = []\n",
    "#    for word in tokens:\n",
    "#        if word in w2v_google_model:\n",
    "#            vector.append(w2v_google_model[word])\n",
    "\n",
    "#    if not vector:\n",
    "#        return np.zeros(w2v_google_model.vector_size)\n",
    "    \n",
    "#    return np.mean(vector, axis=0)\n",
    "\n",
    "# Apply the get_vector function to each row in the training and testing data\n",
    "#X_train = df_train['text'].apply(lambda x: get_vector(x) if isinstance(x, list) else []).tolist()\n",
    "#X_test = df_test['text'].apply(lambda x: get_vector(x) if isinstance(x, list) else []).tolist()\n",
    "\n",
    "# Convert the lists of vectors to numpy arrays\n",
    "#X_train = np.vstack(X_train)\n",
    "#X_test = np.vstack(X_test)\n",
    "\n",
    "# Labels for training and testing\n",
    "#y_train = df_train['emotion']\n",
    "#y_test = df_test['emotion']"
   ]
  },
  {
   "cell_type": "code",
   "execution_count": 100,
   "metadata": {},
   "outputs": [],
   "source": [
    "# TFIDF 分別使用前17000、20000以及23000重要的 max feature 來建構 tfidf，可以發現 20000的表現最好，於是最終選用。\n",
    "import nltk\n",
    "from sklearn.feature_extraction.text import TfidfVectorizer\n",
    "import pandas as pd\n",
    "vectorizer_2 = TfidfVectorizer(max_features=20000,tokenizer=nltk.word_tokenize)\n",
    "tf_idf_all_2 = vectorizer_2.fit(df['lemmatized_sentence'])"
   ]
  },
  {
   "cell_type": "code",
   "execution_count": 101,
   "metadata": {},
   "outputs": [
    {
     "name": "stdout",
     "output_type": "stream",
     "text": [
      "X_train.shape:  (1455563, 20000)\n",
      "y_train.shape:  (1455563,)\n",
      "X_test.shape:  (411972, 20000)\n",
      "y_test.shape:  (411972,)\n"
     ]
    }
   ],
   "source": [
    "# 因使用機器學習的方式進行classification預測，需分別對訓練集與測試集做同樣的前處理\n",
    "X_train = tf_idf_all_2.transform(df_train['lemmatized_sentence'])\n",
    "y_train = df_train['emotion']\n",
    "\n",
    "X_test = tf_idf_all_2.transform(df_test['lemmatized_sentence'])\n",
    "y_test = df_test['emotion']\n",
    "\n",
    "#查看 shape 有沒有錯\n",
    "print('X_train.shape: ', X_train.shape)\n",
    "print('y_train.shape: ', y_train.shape)\n",
    "print('X_test.shape: ', X_test.shape)\n",
    "print('y_test.shape: ', y_test.shape)"
   ]
  },
  {
   "cell_type": "markdown",
   "metadata": {},
   "source": [
    "# 模型選擇"
   ]
  },
  {
   "cell_type": "markdown",
   "metadata": {},
   "source": [
    "模型方面嘗試 catboost、SVC、decision tree 跟 LGBM。其中以 LGBM 訓練時間以及訓練表現較佳，於是採用 LGBM 作為最終 classifier 模型"
   ]
  },
  {
   "cell_type": "code",
   "execution_count": null,
   "metadata": {},
   "outputs": [],
   "source": [
    "#Catboost\n",
    "#from catboost import CatBoostClassifier\n",
    "\n",
    "# Build CatBoost model\n",
    "#catboost_model = CatBoostClassifier(random_state=0)\n",
    "\n",
    "# Training\n",
    "#catboost_model.fit(X_train, y_train)\n",
    "\n",
    "# Predictions\n",
    "#y_train_pred_catboost = catboost_model.predict(X_train)\n",
    "#y_test_pred_catboost = catboost_model.predict(X_test)\n",
    "\n",
    "# Display predictions\n",
    "#print(\"CatBoost predictions on the test set:\", y_test_pred_catboost[:10])"
   ]
  },
  {
   "cell_type": "code",
   "execution_count": 102,
   "metadata": {},
   "outputs": [
    {
     "name": "stdout",
     "output_type": "stream",
     "text": [
      "[LightGBM] [Info] Auto-choosing row-wise multi-threading, the overhead of testing was 51.346935 seconds.\n",
      "You can set `force_row_wise=true` to remove the overhead.\n",
      "And if memory is not enough, you can set `force_col_wise=true`.\n",
      "[LightGBM] [Info] Total Bins 353255\n",
      "[LightGBM] [Info] Number of data points in the train set: 1455563, number of used features: 19861\n",
      "[LightGBM] [Info] Start training from score -3.597599\n",
      "[LightGBM] [Info] Start training from score -1.765956\n",
      "[LightGBM] [Info] Start training from score -2.347948\n",
      "[LightGBM] [Info] Start training from score -3.124281\n",
      "[LightGBM] [Info] Start training from score -1.037008\n",
      "[LightGBM] [Info] Start training from score -2.018196\n",
      "[LightGBM] [Info] Start training from score -3.396874\n",
      "[LightGBM] [Info] Start training from score -1.957809\n",
      "['joy' 'anticipation' 'joy' 'anticipation' 'trust' 'joy' 'joy' 'joy' 'joy'\n",
      " 'joy']\n"
     ]
    }
   ],
   "source": [
    "#LGBM\n",
    "from lightgbm import LGBMClassifier\n",
    "\n",
    "# Build LGBM model\n",
    "LGBM_model = LGBMClassifier(random_state=0)\n",
    "\n",
    "# Training\n",
    "LGBM_model.fit(X_train, y_train)\n",
    "\n",
    "# Predictions\n",
    "y_train_pred = LGBM_model.predict(X_train)\n",
    "y_test_pred = LGBM_model.predict(X_test)\n",
    "\n",
    "# Display the first 10 predictions\n",
    "print(y_test_pred[:10])"
   ]
  },
  {
   "cell_type": "code",
   "execution_count": null,
   "metadata": {},
   "outputs": [],
   "source": [
    "#DecisionTree\n",
    "#DT_model = DecisionTreeClassifier(random_state=1)\n",
    "\n",
    "## training!\n",
    "#DT_model = DT_model.fit(X_train, y_train)\n",
    "\n",
    "## predict!\n",
    "#y_train_pred = DT_model.predict(X_train)\n",
    "#y_test_pred = DT_model.predict(X_test)\n",
    "\n",
    "## so we get the pred result\n",
    "#y_test_pred[:10]"
   ]
  },
  {
   "cell_type": "code",
   "execution_count": null,
   "metadata": {},
   "outputs": [],
   "source": [
    "#SVC\n",
    "\n",
    "#from sklearn.svm import SVC\n",
    "\n",
    "# Build SVM model\n",
    "#SVM_model = SVC(random_state=0)\n",
    "\n",
    "# Training\n",
    "#SVM_model.fit(X_train, y_train)\n",
    "\n",
    "# Predictions\n",
    "#y_train_pred_svm = SVM_model.predict(X_train)\n",
    "#y_test_pred_svm = SVM_model.predict(X_test)\n",
    "\n",
    "# Display the first 10 predictions\n",
    "#print(y_test_pred_svm[:10])"
   ]
  },
  {
   "cell_type": "code",
   "execution_count": 103,
   "metadata": {},
   "outputs": [
    {
     "data": {
      "text/html": [
       "<div>\n",
       "<style scoped>\n",
       "    .dataframe tbody tr th:only-of-type {\n",
       "        vertical-align: middle;\n",
       "    }\n",
       "\n",
       "    .dataframe tbody tr th {\n",
       "        vertical-align: top;\n",
       "    }\n",
       "\n",
       "    .dataframe thead th {\n",
       "        text-align: right;\n",
       "    }\n",
       "</style>\n",
       "<table border=\"1\" class=\"dataframe\">\n",
       "  <thead>\n",
       "    <tr style=\"text-align: right;\">\n",
       "      <th></th>\n",
       "      <th>Unnamed: 0</th>\n",
       "      <th>tweet_id</th>\n",
       "      <th>text</th>\n",
       "      <th>score</th>\n",
       "      <th>identification</th>\n",
       "      <th>emotion</th>\n",
       "      <th>lemmatized_sentence</th>\n",
       "    </tr>\n",
       "  </thead>\n",
       "  <tbody>\n",
       "    <tr>\n",
       "      <th>2</th>\n",
       "      <td>2</td>\n",
       "      <td>0x28b412</td>\n",
       "      <td>Confident obedience write knowing even ask Phi...</td>\n",
       "      <td>232</td>\n",
       "      <td>test</td>\n",
       "      <td>NaN</td>\n",
       "      <td>Confident obedience write knowing even ask Phi...</td>\n",
       "    </tr>\n",
       "    <tr>\n",
       "      <th>4</th>\n",
       "      <td>4</td>\n",
       "      <td>0x2de201</td>\n",
       "      <td>Trust faith friend someone trust Putting faith...</td>\n",
       "      <td>989</td>\n",
       "      <td>test</td>\n",
       "      <td>NaN</td>\n",
       "      <td>Trust faith friend someone trust Putting faith...</td>\n",
       "    </tr>\n",
       "    <tr>\n",
       "      <th>9</th>\n",
       "      <td>9</td>\n",
       "      <td>0x218443</td>\n",
       "      <td>enough satisfied goal really money materialism...</td>\n",
       "      <td>66</td>\n",
       "      <td>test</td>\n",
       "      <td>NaN</td>\n",
       "      <td>enough satisfied goal really money materialism...</td>\n",
       "    </tr>\n",
       "    <tr>\n",
       "      <th>30</th>\n",
       "      <td>30</td>\n",
       "      <td>0x2939d5</td>\n",
       "      <td>God woke chase day GodsPlan GodsWork</td>\n",
       "      <td>104</td>\n",
       "      <td>test</td>\n",
       "      <td>NaN</td>\n",
       "      <td>God woke chase day GodsPlan GodsWork</td>\n",
       "    </tr>\n",
       "    <tr>\n",
       "      <th>33</th>\n",
       "      <td>33</td>\n",
       "      <td>0x26289a</td>\n",
       "      <td>tough times turn symbol hope</td>\n",
       "      <td>310</td>\n",
       "      <td>test</td>\n",
       "      <td>NaN</td>\n",
       "      <td>tough time turn symbol hope</td>\n",
       "    </tr>\n",
       "    <tr>\n",
       "      <th>...</th>\n",
       "      <td>...</td>\n",
       "      <td>...</td>\n",
       "      <td>...</td>\n",
       "      <td>...</td>\n",
       "      <td>...</td>\n",
       "      <td>...</td>\n",
       "      <td>...</td>\n",
       "    </tr>\n",
       "    <tr>\n",
       "      <th>1867525</th>\n",
       "      <td>1867525</td>\n",
       "      <td>0x2913b4</td>\n",
       "      <td>message ye heard beginning love one another Jo...</td>\n",
       "      <td>602</td>\n",
       "      <td>test</td>\n",
       "      <td>NaN</td>\n",
       "      <td>message ye heard beginning love one another Jo...</td>\n",
       "    </tr>\n",
       "    <tr>\n",
       "      <th>1867529</th>\n",
       "      <td>1867529</td>\n",
       "      <td>0x2a980e</td>\n",
       "      <td>lad hath five barley loaves two small fishes a...</td>\n",
       "      <td>598</td>\n",
       "      <td>test</td>\n",
       "      <td>NaN</td>\n",
       "      <td>lad hath five barley loaf two small fish among...</td>\n",
       "    </tr>\n",
       "    <tr>\n",
       "      <th>1867530</th>\n",
       "      <td>1867530</td>\n",
       "      <td>0x316b80</td>\n",
       "      <td>buy last 2 tickets remaining show sell mixedfe...</td>\n",
       "      <td>827</td>\n",
       "      <td>test</td>\n",
       "      <td>NaN</td>\n",
       "      <td>buy last 2 ticket remaining show sell mixedfee...</td>\n",
       "    </tr>\n",
       "    <tr>\n",
       "      <th>1867531</th>\n",
       "      <td>1867531</td>\n",
       "      <td>0x29d0cb</td>\n",
       "      <td>swear hard work gone pay one day😈💰💸</td>\n",
       "      <td>368</td>\n",
       "      <td>test</td>\n",
       "      <td>NaN</td>\n",
       "      <td>swear hard work gone pay one day😈💰💸</td>\n",
       "    </tr>\n",
       "    <tr>\n",
       "      <th>1867532</th>\n",
       "      <td>1867532</td>\n",
       "      <td>0x2a6a4f</td>\n",
       "      <td>Parcel2Go card left wasnt idea get parcel</td>\n",
       "      <td>498</td>\n",
       "      <td>test</td>\n",
       "      <td>NaN</td>\n",
       "      <td>Parcel2Go card left wasnt idea get parcel</td>\n",
       "    </tr>\n",
       "  </tbody>\n",
       "</table>\n",
       "<p>411972 rows × 7 columns</p>\n",
       "</div>"
      ],
      "text/plain": [
       "         Unnamed: 0  tweet_id  \\\n",
       "2                 2  0x28b412   \n",
       "4                 4  0x2de201   \n",
       "9                 9  0x218443   \n",
       "30               30  0x2939d5   \n",
       "33               33  0x26289a   \n",
       "...             ...       ...   \n",
       "1867525     1867525  0x2913b4   \n",
       "1867529     1867529  0x2a980e   \n",
       "1867530     1867530  0x316b80   \n",
       "1867531     1867531  0x29d0cb   \n",
       "1867532     1867532  0x2a6a4f   \n",
       "\n",
       "                                                      text  score  \\\n",
       "2        Confident obedience write knowing even ask Phi...    232   \n",
       "4        Trust faith friend someone trust Putting faith...    989   \n",
       "9        enough satisfied goal really money materialism...     66   \n",
       "30                    God woke chase day GodsPlan GodsWork    104   \n",
       "33                            tough times turn symbol hope    310   \n",
       "...                                                    ...    ...   \n",
       "1867525  message ye heard beginning love one another Jo...    602   \n",
       "1867529  lad hath five barley loaves two small fishes a...    598   \n",
       "1867530  buy last 2 tickets remaining show sell mixedfe...    827   \n",
       "1867531                swear hard work gone pay one day😈💰💸    368   \n",
       "1867532          Parcel2Go card left wasnt idea get parcel    498   \n",
       "\n",
       "        identification emotion  \\\n",
       "2                 test     NaN   \n",
       "4                 test     NaN   \n",
       "9                 test     NaN   \n",
       "30                test     NaN   \n",
       "33                test     NaN   \n",
       "...                ...     ...   \n",
       "1867525           test     NaN   \n",
       "1867529           test     NaN   \n",
       "1867530           test     NaN   \n",
       "1867531           test     NaN   \n",
       "1867532           test     NaN   \n",
       "\n",
       "                                       lemmatized_sentence  \n",
       "2        Confident obedience write knowing even ask Phi...  \n",
       "4        Trust faith friend someone trust Putting faith...  \n",
       "9        enough satisfied goal really money materialism...  \n",
       "30                    God woke chase day GodsPlan GodsWork  \n",
       "33                             tough time turn symbol hope  \n",
       "...                                                    ...  \n",
       "1867525  message ye heard beginning love one another Jo...  \n",
       "1867529  lad hath five barley loaf two small fish among...  \n",
       "1867530  buy last 2 ticket remaining show sell mixedfee...  \n",
       "1867531                swear hard work gone pay one day😈💰💸  \n",
       "1867532          Parcel2Go card left wasnt idea get parcel  \n",
       "\n",
       "[411972 rows x 7 columns]"
      ]
     },
     "execution_count": 103,
     "metadata": {},
     "output_type": "execute_result"
    }
   ],
   "source": [
    "df_test"
   ]
  },
  {
   "cell_type": "markdown",
   "metadata": {},
   "source": [
    "# Submission CSV"
   ]
  },
  {
   "cell_type": "code",
   "execution_count": 2,
   "metadata": {},
   "outputs": [
    {
     "ename": "NameError",
     "evalue": "name 'pd' is not defined",
     "output_type": "error",
     "traceback": [
      "\u001b[1;31m---------------------------------------------------------------------------\u001b[0m",
      "\u001b[1;31mNameError\u001b[0m                                 Traceback (most recent call last)",
      "Cell \u001b[1;32mIn[2], line 1\u001b[0m\n\u001b[1;32m----> 1\u001b[0m y_test_pred\u001b[38;5;241m=\u001b[39mpd\u001b[38;5;241m.\u001b[39mDataFrame(y_test_pred)\n\u001b[0;32m      2\u001b[0m submittion\u001b[38;5;241m=\u001b[39mdf_test\u001b[38;5;241m.\u001b[39mcopy()\n\u001b[0;32m      3\u001b[0m submittion[\u001b[38;5;124m'\u001b[39m\u001b[38;5;124memotion\u001b[39m\u001b[38;5;124m'\u001b[39m]\u001b[38;5;241m=\u001b[39m\u001b[38;5;28mlist\u001b[39m(y_test_pred[\u001b[38;5;241m0\u001b[39m])\n",
      "\u001b[1;31mNameError\u001b[0m: name 'pd' is not defined"
     ]
    }
   ],
   "source": [
    "y_test_pred=pd.DataFrame(y_test_pred)\n",
    "submittion=df_test.copy()\n",
    "submittion['emotion']=list(y_test_pred[0])\n",
    "submittion.drop(labels=['text','score','identification','lemmatized_sentence','Unnamed: 0'],axis=1,inplace=True)\n",
    "submittion.rename(columns={\"tweet_id\": \"id\"},inplace=True)\n",
    "submittion"
   ]
  },
  {
   "cell_type": "code",
   "execution_count": 105,
   "metadata": {},
   "outputs": [],
   "source": [
    "submittion.to_csv(r'C:\\Users\\Leanlab908-4\\OneDrive - NTHU\\桌面\\DMLab2\\DM2023-Lab2-Master\\Homework\\lgbm4.csv',index=False)"
   ]
  }
 ],
 "metadata": {
  "kernelspec": {
   "display_name": "Python 3 (ipykernel)",
   "language": "python",
   "name": "python3"
  },
  "language_info": {
   "codemirror_mode": {
    "name": "ipython",
    "version": 3
   },
   "file_extension": ".py",
   "mimetype": "text/x-python",
   "name": "python",
   "nbconvert_exporter": "python",
   "pygments_lexer": "ipython3",
   "version": "3.11.4"
  },
  "varInspector": {
   "cols": {
    "lenName": 16,
    "lenType": 16,
    "lenVar": 40
   },
   "kernels_config": {
    "python": {
     "delete_cmd_postfix": "",
     "delete_cmd_prefix": "del ",
     "library": "var_list.py",
     "varRefreshCmd": "print(var_dic_list())"
    },
    "r": {
     "delete_cmd_postfix": ") ",
     "delete_cmd_prefix": "rm(",
     "library": "var_list.r",
     "varRefreshCmd": "cat(var_dic_list()) "
    }
   },
   "types_to_exclude": [
    "module",
    "function",
    "builtin_function_or_method",
    "instance",
    "_Feature"
   ],
   "window_display": false
  }
 },
 "nbformat": 4,
 "nbformat_minor": 2
}
